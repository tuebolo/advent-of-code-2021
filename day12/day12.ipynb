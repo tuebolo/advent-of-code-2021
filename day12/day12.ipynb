{
 "cells": [
  {
   "cell_type": "code",
   "execution_count": 176,
   "metadata": {
    "pycharm": {
     "is_executing": true
    },
    "tags": []
   },
   "outputs": [],
   "source": [
    "with open('small_test.txt') as f:\n",
    "    lines = f.read().splitlines()\n",
    "\n",
    "caves = [line.split('-') for line in lines]"
   ]
  },
  {
   "cell_type": "code",
   "execution_count": 193,
   "metadata": {},
   "outputs": [
    {
     "data": {
      "text/plain": [
       "{'start': ['A', 'b'],\n",
       " 'A': ['start', 'c', 'b', 'end'],\n",
       " 'b': ['start', 'A', 'd', 'end'],\n",
       " 'c': ['A'],\n",
       " 'd': ['b'],\n",
       " 'end': ['A', 'b']}"
      ]
     },
     "execution_count": 193,
     "metadata": {},
     "output_type": "execute_result"
    }
   ],
   "source": [
    "def map_connection(key, item, dictionary):\n",
    "    if key in cave_map:\n",
    "        value = cave_map.get(key)\n",
    "        value.append(item)\n",
    "        cave_map[key] = value\n",
    "    else:\n",
    "        cave_map[key] = [item]\n",
    "    return cave_map\n",
    "\n",
    "cave_map = {}\n",
    "for cave in caves:\n",
    "    cave_map = map_connection(cave[0], cave[1], cave_map)\n",
    "    cave_map = map_connection(cave[1], cave[0], cave_map)\n",
    "\n",
    "cave_map"
   ]
  },
  {
   "cell_type": "code",
   "execution_count": 203,
   "metadata": {},
   "outputs": [
    {
     "name": "stdout",
     "output_type": "stream",
     "text": [
      "{'start'}\n",
      "{'start'}\n",
      "{'b', 'start'}\n",
      "{'b', 'start'}\n",
      "{'b', 'start'}\n",
      "{'A', 'b', 'start'}\n",
      "{'A', 'b', 'start'}\n",
      "{'A', 'start'}\n",
      "{'A', 'start'}\n",
      "{'A', 'start'}\n",
      "{'A', 'b', 'start'}\n",
      "{'A', 'b', 'start'}\n"
     ]
    },
    {
     "data": {
      "text/plain": [
       "[['start', 'b', 'end'],\n",
       " ['start', 'b', 'A', 'end'],\n",
       " ['start', 'A', 'end'],\n",
       " ['start', 'A', 'b', 'end']]"
      ]
     },
     "execution_count": 203,
     "metadata": {},
     "output_type": "execute_result"
    }
   ],
   "source": [
    "def dfs_paths(graph, start, goal):\n",
    "    stack = [(start, [start])]\n",
    "    while stack:\n",
    "        (vertex, path) = stack.pop()\n",
    "        for next in set(graph[vertex]) - set(path):\n",
    "            print(set(path))\n",
    "            if next == goal:\n",
    "                yield path + [next]\n",
    "            else:\n",
    "                stack.append((next, path + [next]))\n",
    "\n",
    "list(dfs_paths(cave_map, 'start', 'end'))"
   ]
  }
 ],
 "metadata": {
  "kernelspec": {
   "display_name": "Python 3 (ipykernel)",
   "language": "python",
   "name": "python3"
  },
  "language_info": {
   "codemirror_mode": {
    "name": "ipython",
    "version": 3
   },
   "file_extension": ".py",
   "mimetype": "text/x-python",
   "name": "python",
   "nbconvert_exporter": "python",
   "pygments_lexer": "ipython3",
   "version": "3.10.1"
  }
 },
 "nbformat": 4,
 "nbformat_minor": 4
}
