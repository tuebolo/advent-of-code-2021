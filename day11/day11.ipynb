{
 "cells": [
  {
   "cell_type": "markdown",
   "metadata": {
    "collapsed": true,
    "pycharm": {
     "name": "#%% md\n"
    }
   },
   "source": [
    "## Part 1"
   ]
  },
  {
   "cell_type": "code",
   "execution_count": 209,
   "outputs": [],
   "source": [
    "with open('input.txt') as f:\n",
    "    lines = f.read().splitlines()"
   ],
   "metadata": {
    "collapsed": false,
    "pycharm": {
     "name": "#%%\n"
    }
   }
  },
  {
   "cell_type": "code",
   "execution_count": 210,
   "outputs": [
    {
     "data": {
      "text/plain": "[[4, 1, 3, 4, 3, 8, 4, 6, 2, 6],\n [7, 1, 1, 4, 5, 8, 5, 2, 5, 7],\n [1, 5, 8, 2, 5, 3, 6, 4, 8, 8],\n [4, 8, 6, 5, 7, 1, 5, 5, 3, 8],\n [5, 7, 3, 3, 4, 2, 3, 5, 1, 3],\n [8, 5, 3, 2, 1, 4, 4, 1, 8, 1],\n [1, 2, 8, 8, 6, 1, 4, 5, 8, 3],\n [2, 2, 4, 8, 7, 1, 1, 1, 4, 1],\n [6, 4, 1, 5, 8, 7, 1, 6, 8, 1],\n [7, 8, 8, 1, 5, 3, 1, 4, 3, 8]]"
     },
     "execution_count": 210,
     "metadata": {},
     "output_type": "execute_result"
    }
   ],
   "source": [
    "octo_map = [list(map(int, line)) for line in lines]\n",
    "octo_map"
   ],
   "metadata": {
    "collapsed": false,
    "pycharm": {
     "name": "#%%\n"
    }
   }
  },
  {
   "cell_type": "code",
   "execution_count": 211,
   "outputs": [
    {
     "data": {
      "text/plain": "308"
     },
     "execution_count": 211,
     "metadata": {},
     "output_type": "execute_result"
    }
   ],
   "source": [
    "def step():\n",
    "    n = len(octo_map)\n",
    "    m = len(octo_map[0])\n",
    "    for i in range(n):\n",
    "        for j in range(m):\n",
    "            octo_map[i][j] += 1\n",
    "\n",
    "    def flash(i, j):\n",
    "        if i <0 or i >= n or j <0 or j >= m:\n",
    "            return 0\n",
    "        val = octo_map[i][j]\n",
    "        if val == 0:\n",
    "            return 0\n",
    "        if val < 9:\n",
    "            octo_map[i][j] += 1\n",
    "            return 0\n",
    "        octo_map[i][j] = 0\n",
    "        s = 1\n",
    "        s += flash(i-1, j-1)\n",
    "        s += flash(i-1, j)\n",
    "        s += flash(i, j-1)\n",
    "        s += flash(i+1, j)\n",
    "        s += flash(i, j+1)\n",
    "        s += flash(i+1, j+1)\n",
    "        s += flash(i+1, j-1)\n",
    "        s += flash(i-1, j+1)\n",
    "        return s\n",
    "\n",
    "    flashes = 0\n",
    "    for i in range(n):\n",
    "        for j in range(m):\n",
    "            if octo_map[i][j] > 9:\n",
    "                flashes += flash(i, j)\n",
    "    return flashes\n",
    "\n",
    "def steps():\n",
    "    n = len(octo_map)\n",
    "    m= len(octo_map[0])\n",
    "    max_flashes = n *m\n",
    "    for i in range(1000):\n",
    "        if step() == max_flashes:\n",
    "            return i + 1\n",
    "\n",
    "steps()"
   ],
   "metadata": {
    "collapsed": false,
    "pycharm": {
     "name": "#%%\n"
    }
   }
  },
  {
   "cell_type": "code",
   "execution_count": null,
   "outputs": [],
   "source": [],
   "metadata": {
    "collapsed": false,
    "pycharm": {
     "name": "#%%\n"
    }
   }
  }
 ],
 "metadata": {
  "kernelspec": {
   "display_name": "Python 3",
   "language": "python",
   "name": "python3"
  },
  "language_info": {
   "codemirror_mode": {
    "name": "ipython",
    "version": 2
   },
   "file_extension": ".py",
   "mimetype": "text/x-python",
   "name": "python",
   "nbconvert_exporter": "python",
   "pygments_lexer": "ipython2",
   "version": "2.7.6"
  }
 },
 "nbformat": 4,
 "nbformat_minor": 0
}