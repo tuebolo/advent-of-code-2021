{
 "cells": [
  {
   "cell_type": "markdown",
   "id": "8b23bb43-c66e-43fa-a2aa-16c89cc9ec61",
   "metadata": {},
   "source": [
    "## Part 1"
   ]
  },
  {
   "cell_type": "code",
   "execution_count": 70,
   "id": "efc1a762-25a8-41c1-9ac3-57dd21203438",
   "metadata": {},
   "outputs": [],
   "source": [
    "with open('input.txt') as f:\n",
    "    lines = f.read().splitlines()\n",
    "    \n",
    "lines = [i.split(' | ') for i in lines]\n",
    "input_data = [i[0].split(' ') for i in lines]\n",
    "output_data = [i[1].split(' ') for i in lines]"
   ]
  },
  {
   "cell_type": "code",
   "execution_count": 71,
   "id": "358822ef-9cc0-4aeb-b01a-87659460e082",
   "metadata": {},
   "outputs": [
    {
     "data": {
      "text/plain": [
       "369"
      ]
     },
     "execution_count": 71,
     "metadata": {},
     "output_type": "execute_result"
    }
   ],
   "source": [
    "flatten_data = [i for sublist in output_data for i in sublist]\n",
    "unique_lengths = [2, 4, 3, 7]\n",
    "result = [len(i) for i in flatten_data if len(i) in unique_lengths]\n",
    "len(result)"
   ]
  },
  {
   "cell_type": "markdown",
   "id": "8da1fa58-4e6c-4f1e-b8f7-d2ae89c0dd3c",
   "metadata": {},
   "source": [
    "## Part 2"
   ]
  },
  {
   "cell_type": "code",
   "execution_count": 72,
   "id": "df0c3abe-7bd1-415a-b7ad-4079f67d1570",
   "metadata": {},
   "outputs": [
    {
     "name": "stdout",
     "output_type": "stream",
     "text": [
      "1031553\n"
     ]
    }
   ],
   "source": [
    "result = 0\n",
    "\n",
    "for input_entry, output_entry in zip(input_data, output_data):\n",
    "    data = sorted(set(input_entry), key=len)\n",
    "    \n",
    "    # form the dictionaries\n",
    "    number_codes = {'abcefg':'0', 'cf':'1', 'acdeg':'2', 'acdfg':'3', 'bcdf':'4', 'abdfg':'5', 'abdefg':'6', 'acf':'7', 'abcdefg':'8', 'abcdfg':'9'}\n",
    "    decoder = {'a':None, 'b':None, 'c':None, 'd':None, 'e':None, 'f':None, 'g':None}\n",
    "    \n",
    "    # assign known numbers\n",
    "    one, seven, four, fives, sixes, eight = data[0], data[1], data[2], data[3:6], data[6:9], data[9]\n",
    "    \n",
    "    # discover the codes\n",
    "    decoder['a'] = list(set(seven) - set(one))[0] # GET A\n",
    "\n",
    "    # GET C\n",
    "    for number in sixes:\n",
    "        if len(set(number)-set(one)) == 5:\n",
    "            decoder['c'] = list(set(one).difference(number))[0]\n",
    "            # decoder['c'] = list(set(number).intersection(set(one)))[0]\n",
    "            six = number\n",
    "            sixes.remove(number)       \n",
    "\n",
    "    for number in sixes:\n",
    "        if len(set(number)-set(four)) == 3:\n",
    "            zero = number\n",
    "        else:\n",
    "            nine = number\n",
    "\n",
    "    decoder['f'] = list(set(one).intersection(six))[0] # GET F\n",
    "    decoder['d'] = list(set(eight).difference(zero))[0] # GET D\n",
    "    decoder['e'] = list(set(eight).difference(nine))[0] # GET E\n",
    "    decoder['b'] = list(set(four).difference(decoder.values()))[0] # GET B\n",
    "    decoder['g'] = list(set(decoder.keys()).difference(decoder.values()))[0] # GET G\n",
    "    # print(decoder)\n",
    "    \n",
    "    # Decode the numbers\n",
    "    \n",
    "    r_decoder = dict((v,k) for k,v in decoder.items())\n",
    "    decoded_letters = [''.join(sorted(list(map(r_decoder.get, set(i))))) for i in output_entry]\n",
    "    decoded_number = [number_codes.get(i) for i in decoded_letters]\n",
    "    n = int(\"\".join(decoded_number))\n",
    "    result += n\n",
    "\n",
    "print(result)"
   ]
  },
  {
   "cell_type": "code",
   "execution_count": null,
   "id": "483b75fb-6893-454a-93c9-626b2ef1259f",
   "metadata": {},
   "outputs": [],
   "source": []
  }
 ],
 "metadata": {
  "kernelspec": {
   "display_name": "Python 3 (ipykernel)",
   "language": "python",
   "name": "python3"
  },
  "language_info": {
   "codemirror_mode": {
    "name": "ipython",
    "version": 3
   },
   "file_extension": ".py",
   "mimetype": "text/x-python",
   "name": "python",
   "nbconvert_exporter": "python",
   "pygments_lexer": "ipython3",
   "version": "3.10.1"
  }
 },
 "nbformat": 4,
 "nbformat_minor": 5
}
