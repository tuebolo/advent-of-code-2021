{
 "cells": [
  {
   "cell_type": "markdown",
   "metadata": {
    "pycharm": {
     "name": "#%% md\n"
    }
   },
   "source": [
    "## Part 1"
   ]
  },
  {
   "cell_type": "code",
   "execution_count": 51,
   "metadata": {
    "collapsed": false,
    "jupyter": {
     "outputs_hidden": false
    },
    "pycharm": {
     "name": "#%%\n"
    }
   },
   "outputs": [],
   "source": [
    "with open('input.txt') as f:\n",
    "    lines = f.read().splitlines()"
   ]
  },
  {
   "cell_type": "code",
   "execution_count": 70,
   "metadata": {},
   "outputs": [
    {
     "data": {
      "text/plain": "318099"
     },
     "execution_count": 70,
     "metadata": {},
     "output_type": "execute_result"
    }
   ],
   "source": [
    "from functools import reduce\n",
    "\n",
    "open_braces = ['(','[','{','<']\n",
    "close_braces = [')',']','}','>']\n",
    "points = {0:3, 1:57, 2:1197, 3:25137}\n",
    "\n",
    "\n",
    "def check_corrupted_line(line):\n",
    "    stack = []\n",
    "    for char in line:\n",
    "        if char in open_braces:\n",
    "            stack.append(char)\n",
    "            stack_tail = open_braces.index(char)\n",
    "        elif close_braces.index(char) != stack_tail:\n",
    "            return points[(close_braces.index(char))]\n",
    "        else:\n",
    "            if not stack:\n",
    "                return 0\n",
    "            stack.pop()\n",
    "            if len(stack) > 0:\n",
    "                stack_tail = open_braces.index(stack[-1])\n",
    "    return 0\n",
    "\n",
    "\n",
    "corrupted_sum = reduce(lambda acc, e: acc + check_corrupted_line(e), lines, 0)\n",
    "corrupted_sum"
   ]
  },
  {
   "cell_type": "markdown",
   "source": [
    "## Part 2"
   ],
   "metadata": {
    "collapsed": false,
    "pycharm": {
     "name": "#%% md\n"
    }
   }
  },
  {
   "cell_type": "code",
   "execution_count": 61,
   "metadata": {
    "pycharm": {
     "name": "#%%\n"
    }
   },
   "outputs": [
    {
     "data": {
      "text/plain": "2389738699"
     },
     "execution_count": 61,
     "metadata": {},
     "output_type": "execute_result"
    }
   ],
   "source": [
    "open_braces = ['(','[','{','<']\n",
    "close_braces = [')',']','}','>']\n",
    "points = {0:3, 1:57, 2:1197, 3:25137}\n",
    "\n",
    "def check_line(line, stack):\n",
    "    for char in line:\n",
    "        if char in open_braces:\n",
    "            stack.append(char)\n",
    "            stack_tail = open_braces.index(char)\n",
    "        elif close_braces.index(char) != stack_tail:\n",
    "            return False\n",
    "        else:\n",
    "            if not stack:\n",
    "                return False\n",
    "            stack.pop()\n",
    "            if len(stack) > 0:\n",
    "                stack_tail = open_braces.index(stack[-1])\n",
    "    return True\n",
    "\n",
    "scores = []\n",
    "for line in lines:\n",
    "    \n",
    "    stack = []\n",
    "    if not check_line(line, stack):\n",
    "        continue\n",
    "\n",
    "    score = 0\n",
    "    for value in reversed(stack):\n",
    "        point = open_braces.index(value)+1\n",
    "        score = score * 5 + point\n",
    "    scores.append(score)\n",
    "\n",
    "scores.sort()\n",
    "scores[len(scores)//2]"
   ]
  }
 ],
 "metadata": {
  "kernelspec": {
   "display_name": "Python 3 (ipykernel)",
   "language": "python",
   "name": "python3"
  },
  "language_info": {
   "codemirror_mode": {
    "name": "ipython",
    "version": 3
   },
   "file_extension": ".py",
   "mimetype": "text/x-python",
   "name": "python",
   "nbconvert_exporter": "python",
   "pygments_lexer": "ipython3",
   "version": "3.10.1"
  }
 },
 "nbformat": 4,
 "nbformat_minor": 4
}