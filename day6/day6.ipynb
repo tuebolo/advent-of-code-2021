{
 "cells": [
  {
   "cell_type": "markdown",
   "id": "6b9f63d3-fa6d-4812-ac6e-292561408e5d",
   "metadata": {},
   "source": [
    "## Part 1"
   ]
  },
  {
   "cell_type": "code",
   "execution_count": 230,
   "id": "59a16f70-62e1-4f3e-9c65-14e1d2bc5032",
   "metadata": {},
   "outputs": [],
   "source": [
    "from numpy import array\n",
    "import time\n",
    "\n",
    "with open('input.txt') as f:\n",
    "    lines = f.readlines()"
   ]
  },
  {
   "cell_type": "code",
   "execution_count": 232,
   "id": "a27ab139-e966-4923-8f30-eaee4c3b9dca",
   "metadata": {},
   "outputs": [],
   "source": [
    "shoal = list(map(int, lines[0].split(','))) \n",
    "\n",
    "breeding_days = 18\n",
    "\n",
    "# print(f'Initial state: {shoal}')\n",
    "# start = time.time()\n",
    "\n",
    "for day in range(1, breeding_days + 1):\n",
    "    \n",
    "    for i, fish in enumerate(shoal):\n",
    "\n",
    "        if fish == 0:\n",
    "            shoal[i] = 6\n",
    "            shoal.append(9)\n",
    "        else:\n",
    "            shoal[i] -= 1\n",
    "    # print(f'After {day} day: {len(shoal)} - {shoal}')\n",
    "end = time.time()\n",
    "\n",
    "# print(end - start)"
   ]
  },
  {
   "cell_type": "code",
   "execution_count": 233,
   "id": "25c8c3cc-343d-457d-bbf1-cd12fabce336",
   "metadata": {},
   "outputs": [
    {
     "name": "stdout",
     "output_type": "stream",
     "text": [
      "1565\n"
     ]
    }
   ],
   "source": [
    "print(len(shoal))"
   ]
  },
  {
   "cell_type": "markdown",
   "id": "a754ba2a-9f5e-4938-8736-dc3342a07cbd",
   "metadata": {},
   "source": [
    "## Part 2"
   ]
  },
  {
   "cell_type": "code",
   "execution_count": 234,
   "id": "daa1ca3b-8736-4629-abe7-37d059cac1bf",
   "metadata": {},
   "outputs": [
    {
     "name": "stdout",
     "output_type": "stream",
     "text": [
      "1600306001288\n"
     ]
    }
   ],
   "source": [
    "shoal = np.array(list(map(int, lines[0].split(',')))) \n",
    "\n",
    "breeding_days = 256\n",
    "\n",
    "# create 8 buckets\n",
    "buckets = [0] * 9\n",
    "\n",
    "# put fish in correct buckets\n",
    "for fish in shoal:\n",
    "    buckets[fish] += 1\n",
    "\n",
    "for day in range(1, breeding_days + 1):\n",
    "    if buckets[0] > 0:\n",
    "        breeding_fish = buckets.pop(0)\n",
    "        buckets.append(breeding_fish)\n",
    "        buckets[6] += breeding_fish\n",
    "        # print(f'{day}: {buckets}')\n",
    "    else:\n",
    "        breeding_fish = buckets.pop(0)\n",
    "        buckets.append(breeding_fish)\n",
    "        # print(f'{day}: {buckets}')\n",
    "\n",
    "print(sum(buckets))"
   ]
  },
  {
   "cell_type": "code",
   "execution_count": null,
   "id": "0951bc1d-5553-4048-a645-01c50cdd36be",
   "metadata": {},
   "outputs": [],
   "source": []
  }
 ],
 "metadata": {
  "kernelspec": {
   "display_name": "Python 3 (ipykernel)",
   "language": "python",
   "name": "python3"
  },
  "language_info": {
   "codemirror_mode": {
    "name": "ipython",
    "version": 3
   },
   "file_extension": ".py",
   "mimetype": "text/x-python",
   "name": "python",
   "nbconvert_exporter": "python",
   "pygments_lexer": "ipython3",
   "version": "3.10.1"
  }
 },
 "nbformat": 4,
 "nbformat_minor": 5
}
