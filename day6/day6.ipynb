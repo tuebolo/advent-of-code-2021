{
 "cells": [
  {
   "cell_type": "markdown",
   "id": "6b9f63d3-fa6d-4812-ac6e-292561408e5d",
   "metadata": {},
   "source": [
    "## Part 1"
   ]
  },
  {
   "cell_type": "code",
   "execution_count": 100,
   "id": "59a16f70-62e1-4f3e-9c65-14e1d2bc5032",
   "metadata": {},
   "outputs": [],
   "source": [
    "with open('test.txt') as f:\n",
    "    lines = f.readlines()"
   ]
  },
  {
   "cell_type": "code",
   "execution_count": 96,
   "id": "a27ab139-e966-4923-8f30-eaee4c3b9dca",
   "metadata": {},
   "outputs": [],
   "source": [
    "shoal = list(map(int, lines[0].split(','))) \n",
    "\n",
    "breeding_days = 80\n",
    "\n",
    "# print(f'Initial state: {shoal}')\n",
    "\n",
    "for day in range(1, breeding_days + 1):\n",
    "    \n",
    "    for i, fish in enumerate(shoal):\n",
    "\n",
    "        if fish == 0:\n",
    "            shoal[i] = 6\n",
    "            shoal.append(9)\n",
    "        else:\n",
    "            shoal[i] -= 1\n",
    "    # print(f'After {day} day: {shoal}')"
   ]
  },
  {
   "cell_type": "code",
   "execution_count": 97,
   "id": "25c8c3cc-343d-457d-bbf1-cd12fabce336",
   "metadata": {},
   "outputs": [
    {
     "name": "stdout",
     "output_type": "stream",
     "text": [
      "5934\n"
     ]
    }
   ],
   "source": [
    "print(len(shoal))"
   ]
  },
  {
   "cell_type": "markdown",
   "id": "a754ba2a-9f5e-4938-8736-dc3342a07cbd",
   "metadata": {},
   "source": [
    "## Part 2"
   ]
  },
  {
   "cell_type": "code",
   "execution_count": 124,
   "id": "daa1ca3b-8736-4629-abe7-37d059cac1bf",
   "metadata": {},
   "outputs": [
    {
     "name": "stdout",
     "output_type": "stream",
     "text": [
      "5934\n"
     ]
    }
   ],
   "source": [
    "def spawn(shoal):\n",
    "    shoal[i] = 6\n",
    "    shoal.append(9)\n",
    "    \n",
    "shoal = list(map(int, lines[0].split(','))) \n",
    "\n",
    "breeding_days = 80\n",
    "\n",
    "# print(f'Initial state: {shoal}')\n",
    "\n",
    "for day in range(1, breeding_days + 1):\n",
    "    \n",
    "    for i, fish in enumerate(shoal):\n",
    "\n",
    "        if fish == 0:\n",
    "            spawn(shoal)\n",
    "        else:\n",
    "            shoal[i] -= 1\n",
    "    # print(f'After {day} day: {shoal}')\n",
    "\n",
    "print(len(shoal))"
   ]
  },
  {
   "cell_type": "code",
   "execution_count": 123,
   "id": "9c0bdff0-7844-4150-8f34-460df91682b4",
   "metadata": {},
   "outputs": [
    {
     "name": "stdout",
     "output_type": "stream",
     "text": [
      "[None, None, None, None, None]\n"
     ]
    },
    {
     "ename": "TypeError",
     "evalue": "unsupported operand type(s) for -=: 'NoneType' and 'int'",
     "output_type": "error",
     "traceback": [
      "\u001b[0;31m---------------------------------------------------------------------------\u001b[0m",
      "\u001b[0;31mTypeError\u001b[0m                                 Traceback (most recent call last)",
      "\u001b[0;32m/tmp/ipykernel_138615/2184240448.py\u001b[0m in \u001b[0;36m<module>\u001b[0;34m\u001b[0m\n\u001b[1;32m     14\u001b[0m     \u001b[0;31m# [spawn(shoal) for i, fish in enumerate(shoal) if fish == 0 else shoal[i] -= 1 ]\u001b[0m\u001b[0;34m\u001b[0m\u001b[0;34m\u001b[0m\u001b[0m\n\u001b[1;32m     15\u001b[0m \u001b[0;34m\u001b[0m\u001b[0m\n\u001b[0;32m---> 16\u001b[0;31m     \u001b[0mshoal\u001b[0m \u001b[0;34m=\u001b[0m \u001b[0;34m[\u001b[0m\u001b[0mspawn\u001b[0m\u001b[0;34m(\u001b[0m\u001b[0mshoal\u001b[0m\u001b[0;34m)\u001b[0m \u001b[0;32mif\u001b[0m \u001b[0mfish\u001b[0m \u001b[0;34m==\u001b[0m \u001b[0;36m0\u001b[0m \u001b[0;32melse\u001b[0m \u001b[0mgestate\u001b[0m\u001b[0;34m(\u001b[0m\u001b[0mshoal\u001b[0m\u001b[0;34m[\u001b[0m\u001b[0mi\u001b[0m\u001b[0;34m]\u001b[0m\u001b[0;34m)\u001b[0m \u001b[0;32mfor\u001b[0m \u001b[0mi\u001b[0m\u001b[0;34m,\u001b[0m \u001b[0mfish\u001b[0m \u001b[0;32min\u001b[0m \u001b[0menumerate\u001b[0m\u001b[0;34m(\u001b[0m\u001b[0mshoal\u001b[0m\u001b[0;34m)\u001b[0m\u001b[0;34m]\u001b[0m\u001b[0;34m\u001b[0m\u001b[0;34m\u001b[0m\u001b[0m\n\u001b[0m\u001b[1;32m     17\u001b[0m     \u001b[0mprint\u001b[0m\u001b[0;34m(\u001b[0m\u001b[0mshoal\u001b[0m\u001b[0;34m)\u001b[0m\u001b[0;34m\u001b[0m\u001b[0;34m\u001b[0m\u001b[0m\n\u001b[1;32m     18\u001b[0m \u001b[0;34m\u001b[0m\u001b[0m\n",
      "\u001b[0;32m/tmp/ipykernel_138615/2184240448.py\u001b[0m in \u001b[0;36m<listcomp>\u001b[0;34m(.0)\u001b[0m\n\u001b[1;32m     14\u001b[0m     \u001b[0;31m# [spawn(shoal) for i, fish in enumerate(shoal) if fish == 0 else shoal[i] -= 1 ]\u001b[0m\u001b[0;34m\u001b[0m\u001b[0;34m\u001b[0m\u001b[0m\n\u001b[1;32m     15\u001b[0m \u001b[0;34m\u001b[0m\u001b[0m\n\u001b[0;32m---> 16\u001b[0;31m     \u001b[0mshoal\u001b[0m \u001b[0;34m=\u001b[0m \u001b[0;34m[\u001b[0m\u001b[0mspawn\u001b[0m\u001b[0;34m(\u001b[0m\u001b[0mshoal\u001b[0m\u001b[0;34m)\u001b[0m \u001b[0;32mif\u001b[0m \u001b[0mfish\u001b[0m \u001b[0;34m==\u001b[0m \u001b[0;36m0\u001b[0m \u001b[0;32melse\u001b[0m \u001b[0mgestate\u001b[0m\u001b[0;34m(\u001b[0m\u001b[0mshoal\u001b[0m\u001b[0;34m[\u001b[0m\u001b[0mi\u001b[0m\u001b[0;34m]\u001b[0m\u001b[0;34m)\u001b[0m \u001b[0;32mfor\u001b[0m \u001b[0mi\u001b[0m\u001b[0;34m,\u001b[0m \u001b[0mfish\u001b[0m \u001b[0;32min\u001b[0m \u001b[0menumerate\u001b[0m\u001b[0;34m(\u001b[0m\u001b[0mshoal\u001b[0m\u001b[0;34m)\u001b[0m\u001b[0;34m]\u001b[0m\u001b[0;34m\u001b[0m\u001b[0;34m\u001b[0m\u001b[0m\n\u001b[0m\u001b[1;32m     17\u001b[0m     \u001b[0mprint\u001b[0m\u001b[0;34m(\u001b[0m\u001b[0mshoal\u001b[0m\u001b[0;34m)\u001b[0m\u001b[0;34m\u001b[0m\u001b[0;34m\u001b[0m\u001b[0m\n\u001b[1;32m     18\u001b[0m \u001b[0;34m\u001b[0m\u001b[0m\n",
      "\u001b[0;32m/tmp/ipykernel_138615/2184240448.py\u001b[0m in \u001b[0;36mgestate\u001b[0;34m(pregnate_fish)\u001b[0m\n\u001b[1;32m      4\u001b[0m \u001b[0;34m\u001b[0m\u001b[0m\n\u001b[1;32m      5\u001b[0m \u001b[0;32mdef\u001b[0m \u001b[0mgestate\u001b[0m\u001b[0;34m(\u001b[0m\u001b[0mpregnate_fish\u001b[0m\u001b[0;34m)\u001b[0m\u001b[0;34m:\u001b[0m\u001b[0;34m\u001b[0m\u001b[0;34m\u001b[0m\u001b[0m\n\u001b[0;32m----> 6\u001b[0;31m     \u001b[0mpregnate_fish\u001b[0m \u001b[0;34m-=\u001b[0m \u001b[0;36m1\u001b[0m\u001b[0;34m\u001b[0m\u001b[0;34m\u001b[0m\u001b[0m\n\u001b[0m\u001b[1;32m      7\u001b[0m \u001b[0;34m\u001b[0m\u001b[0m\n\u001b[1;32m      8\u001b[0m \u001b[0mshoal\u001b[0m \u001b[0;34m=\u001b[0m \u001b[0mlist\u001b[0m\u001b[0;34m(\u001b[0m\u001b[0mmap\u001b[0m\u001b[0;34m(\u001b[0m\u001b[0mint\u001b[0m\u001b[0;34m,\u001b[0m \u001b[0mlines\u001b[0m\u001b[0;34m[\u001b[0m\u001b[0;36m0\u001b[0m\u001b[0;34m]\u001b[0m\u001b[0;34m.\u001b[0m\u001b[0msplit\u001b[0m\u001b[0;34m(\u001b[0m\u001b[0;34m','\u001b[0m\u001b[0;34m)\u001b[0m\u001b[0;34m)\u001b[0m\u001b[0;34m)\u001b[0m\u001b[0;34m\u001b[0m\u001b[0;34m\u001b[0m\u001b[0m\n",
      "\u001b[0;31mTypeError\u001b[0m: unsupported operand type(s) for -=: 'NoneType' and 'int'"
     ]
    }
   ],
   "source": [
    "def spawn(shoal):\n",
    "    shoal[i] = 6\n",
    "    shoal.append(9)\n",
    "\n",
    "def gestate(pregnate_fish):\n",
    "    pregnate_fish -= 1\n",
    "    \n",
    "shoal = list(map(int, lines[0].split(','))) \n",
    "\n",
    "breeding_days = 80\n",
    "\n",
    "for day in range(1, breeding_days + 1):\n",
    "    \n",
    "    # [spawn(shoal) for i, fish in enumerate(shoal) if fish == 0 else shoal[i] -= 1 ]\n",
    "    \n",
    "    shoal = [spawn(shoal) if fish == 0 else gestate(shoal[i]) for i, fish in enumerate(shoal)]\n",
    "    print(shoal)\n",
    "\n",
    "print(len(shoal))"
   ]
  },
  {
   "cell_type": "code",
   "execution_count": null,
   "id": "4b10a14d-e983-446e-9379-7a85dbf778cd",
   "metadata": {},
   "outputs": [],
   "source": []
  }
 ],
 "metadata": {
  "kernelspec": {
   "display_name": "Python 3 (ipykernel)",
   "language": "python",
   "name": "python3"
  },
  "language_info": {
   "codemirror_mode": {
    "name": "ipython",
    "version": 3
   },
   "file_extension": ".py",
   "mimetype": "text/x-python",
   "name": "python",
   "nbconvert_exporter": "python",
   "pygments_lexer": "ipython3",
   "version": "3.10.1"
  }
 },
 "nbformat": 4,
 "nbformat_minor": 5
}
