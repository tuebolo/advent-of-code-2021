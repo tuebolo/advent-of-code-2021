{
 "cells": [
  {
   "cell_type": "markdown",
   "id": "c1e20638-6d5f-454e-b6f0-637ca09f5fc3",
   "metadata": {},
   "source": [
    "## Part 1"
   ]
  },
  {
   "cell_type": "code",
   "execution_count": 49,
   "id": "2b116f94-8483-444d-bfe3-0bda3c9e9e11",
   "metadata": {},
   "outputs": [
    {
     "data": {
      "text/html": [
       "<div>\n",
       "<style scoped>\n",
       "    .dataframe tbody tr th:only-of-type {\n",
       "        vertical-align: middle;\n",
       "    }\n",
       "\n",
       "    .dataframe tbody tr th {\n",
       "        vertical-align: top;\n",
       "    }\n",
       "\n",
       "    .dataframe thead th {\n",
       "        text-align: right;\n",
       "    }\n",
       "</style>\n",
       "<table border=\"1\" class=\"dataframe\">\n",
       "  <thead>\n",
       "    <tr style=\"text-align: right;\">\n",
       "      <th></th>\n",
       "      <th>course</th>\n",
       "      <th>unit</th>\n",
       "    </tr>\n",
       "  </thead>\n",
       "  <tbody>\n",
       "    <tr>\n",
       "      <th>0</th>\n",
       "      <td>forward</td>\n",
       "      <td>6</td>\n",
       "    </tr>\n",
       "    <tr>\n",
       "      <th>1</th>\n",
       "      <td>forward</td>\n",
       "      <td>8</td>\n",
       "    </tr>\n",
       "    <tr>\n",
       "      <th>2</th>\n",
       "      <td>down</td>\n",
       "      <td>6</td>\n",
       "    </tr>\n",
       "    <tr>\n",
       "      <th>3</th>\n",
       "      <td>down</td>\n",
       "      <td>6</td>\n",
       "    </tr>\n",
       "    <tr>\n",
       "      <th>4</th>\n",
       "      <td>forward</td>\n",
       "      <td>9</td>\n",
       "    </tr>\n",
       "  </tbody>\n",
       "</table>\n",
       "</div>"
      ],
      "text/plain": [
       "    course  unit\n",
       "0  forward     6\n",
       "1  forward     8\n",
       "2     down     6\n",
       "3     down     6\n",
       "4  forward     9"
      ]
     },
     "execution_count": 49,
     "metadata": {},
     "output_type": "execute_result"
    }
   ],
   "source": [
    "import pandas as pd\n",
    "course = pd.read_csv('input.csv', names=['course','unit'], sep=' ')\n",
    "course.head()"
   ]
  },
  {
   "cell_type": "code",
   "execution_count": 29,
   "id": "56a5801f-0ac5-4e98-bada-99600eb0008e",
   "metadata": {},
   "outputs": [],
   "source": [
    "horizontal_position = course['unit'].loc[course['course'] == 'forward'].sum()"
   ]
  },
  {
   "cell_type": "code",
   "execution_count": 25,
   "id": "ff9b56eb-db4b-4a9c-9616-9155d8617de5",
   "metadata": {},
   "outputs": [],
   "source": [
    "down = sum(course['unit'].loc[course['course'] == 'down'])\n",
    "up = sum(course['unit'].loc[course['course'] == 'up'])\n",
    "depth = down - up"
   ]
  },
  {
   "cell_type": "code",
   "execution_count": 30,
   "id": "42933835-8038-40f0-8a8c-bc1d11aed2c0",
   "metadata": {},
   "outputs": [
    {
     "name": "stdout",
     "output_type": "stream",
     "text": [
      "2050 826\n"
     ]
    }
   ],
   "source": [
    "print(horizontal_position, depth)"
   ]
  },
  {
   "cell_type": "code",
   "execution_count": 31,
   "id": "0fd9c35a-2bc7-45ae-b4ef-61447d7fd771",
   "metadata": {},
   "outputs": [
    {
     "name": "stdout",
     "output_type": "stream",
     "text": [
      "1693300\n"
     ]
    }
   ],
   "source": [
    "print(horizontal_position*depth)"
   ]
  },
  {
   "cell_type": "markdown",
   "id": "9c21eac6-c1d8-46f6-835e-afb6bed64b54",
   "metadata": {},
   "source": [
    "## Part 2"
   ]
  },
  {
   "cell_type": "code",
   "execution_count": 40,
   "id": "4f5cd484-4add-4d10-91f6-6405d23010ba",
   "metadata": {},
   "outputs": [
    {
     "data": {
      "text/html": [
       "<div>\n",
       "<style scoped>\n",
       "    .dataframe tbody tr th:only-of-type {\n",
       "        vertical-align: middle;\n",
       "    }\n",
       "\n",
       "    .dataframe tbody tr th {\n",
       "        vertical-align: top;\n",
       "    }\n",
       "\n",
       "    .dataframe thead th {\n",
       "        text-align: right;\n",
       "    }\n",
       "</style>\n",
       "<table border=\"1\" class=\"dataframe\">\n",
       "  <thead>\n",
       "    <tr style=\"text-align: right;\">\n",
       "      <th></th>\n",
       "      <th>course</th>\n",
       "      <th>unit</th>\n",
       "      <th>depth</th>\n",
       "      <th>aim</th>\n",
       "    </tr>\n",
       "  </thead>\n",
       "  <tbody>\n",
       "    <tr>\n",
       "      <th>0</th>\n",
       "      <td>forward</td>\n",
       "      <td>6</td>\n",
       "      <td>0</td>\n",
       "      <td>0</td>\n",
       "    </tr>\n",
       "    <tr>\n",
       "      <th>1</th>\n",
       "      <td>forward</td>\n",
       "      <td>8</td>\n",
       "      <td>0</td>\n",
       "      <td>0</td>\n",
       "    </tr>\n",
       "    <tr>\n",
       "      <th>2</th>\n",
       "      <td>down</td>\n",
       "      <td>6</td>\n",
       "      <td>0</td>\n",
       "      <td>0</td>\n",
       "    </tr>\n",
       "    <tr>\n",
       "      <th>3</th>\n",
       "      <td>down</td>\n",
       "      <td>6</td>\n",
       "      <td>0</td>\n",
       "      <td>0</td>\n",
       "    </tr>\n",
       "    <tr>\n",
       "      <th>4</th>\n",
       "      <td>forward</td>\n",
       "      <td>9</td>\n",
       "      <td>0</td>\n",
       "      <td>0</td>\n",
       "    </tr>\n",
       "  </tbody>\n",
       "</table>\n",
       "</div>"
      ],
      "text/plain": [
       "    course  unit  depth  aim\n",
       "0  forward     6      0    0\n",
       "1  forward     8      0    0\n",
       "2     down     6      0    0\n",
       "3     down     6      0    0\n",
       "4  forward     9      0    0"
      ]
     },
     "execution_count": 40,
     "metadata": {},
     "output_type": "execute_result"
    }
   ],
   "source": [
    "course['depth'], course['aim'] = 0, 0\n",
    "course.head()"
   ]
  },
  {
   "cell_type": "code",
   "execution_count": 59,
   "id": "309dca5f-282d-4d9a-bfaf-bda17e94a0dd",
   "metadata": {},
   "outputs": [
    {
     "name": "stdout",
     "output_type": "stream",
     "text": [
      "906321 826 2050\n"
     ]
    }
   ],
   "source": [
    "depth=0\n",
    "aim=0\n",
    "h_position=0\n",
    "\n",
    "for i, row in course.iterrows():\n",
    "    if row['course'] == 'down':\n",
    "        aim += row['unit']\n",
    "        \n",
    "    elif row['course'] == 'up':\n",
    "        aim -= row['unit']\n",
    "        \n",
    "    else: # forward\n",
    "        h_position += row['unit']\n",
    "        depth += aim * row['unit']\n",
    "\n",
    "print(depth, aim, h_position)"
   ]
  },
  {
   "cell_type": "code",
   "execution_count": 60,
   "id": "2d733796-f412-4388-b802-ff8114ed072e",
   "metadata": {},
   "outputs": [
    {
     "name": "stdout",
     "output_type": "stream",
     "text": [
      "1857958050\n"
     ]
    }
   ],
   "source": [
    "print(h_position*depth)"
   ]
  },
  {
   "cell_type": "code",
   "execution_count": null,
   "id": "d9641685-51ab-4e75-889f-a488f8432818",
   "metadata": {},
   "outputs": [],
   "source": []
  }
 ],
 "metadata": {
  "kernelspec": {
   "display_name": "Python 3 (ipykernel)",
   "language": "python",
   "name": "python3"
  },
  "language_info": {
   "codemirror_mode": {
    "name": "ipython",
    "version": 3
   },
   "file_extension": ".py",
   "mimetype": "text/x-python",
   "name": "python",
   "nbconvert_exporter": "python",
   "pygments_lexer": "ipython3",
   "version": "3.9.7"
  }
 },
 "nbformat": 4,
 "nbformat_minor": 5
}
