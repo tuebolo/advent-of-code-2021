{
 "cells": [
  {
   "cell_type": "markdown",
   "id": "aa7818bb-db07-4d00-9c7e-a56b3dc94a57",
   "metadata": {},
   "source": [
    "## Part 1"
   ]
  },
  {
   "cell_type": "code",
   "execution_count": 213,
   "id": "77d97e54-7736-4ee2-9681-ece0ed994bb4",
   "metadata": {},
   "outputs": [],
   "source": [
    "import pandas as pd"
   ]
  },
  {
   "cell_type": "code",
   "execution_count": 221,
   "id": "125dbb6c-4240-43ec-bfa9-0a53d0d02fd0",
   "metadata": {},
   "outputs": [
    {
     "data": {
      "text/html": [
       "<div>\n",
       "<style scoped>\n",
       "    .dataframe tbody tr th:only-of-type {\n",
       "        vertical-align: middle;\n",
       "    }\n",
       "\n",
       "    .dataframe tbody tr th {\n",
       "        vertical-align: top;\n",
       "    }\n",
       "\n",
       "    .dataframe thead th {\n",
       "        text-align: right;\n",
       "    }\n",
       "</style>\n",
       "<table border=\"1\" class=\"dataframe\">\n",
       "  <thead>\n",
       "    <tr style=\"text-align: right;\">\n",
       "      <th></th>\n",
       "      <th>0</th>\n",
       "      <th>1</th>\n",
       "      <th>2</th>\n",
       "      <th>3</th>\n",
       "      <th>4</th>\n",
       "      <th>5</th>\n",
       "      <th>6</th>\n",
       "      <th>7</th>\n",
       "      <th>8</th>\n",
       "      <th>9</th>\n",
       "      <th>10</th>\n",
       "      <th>11</th>\n",
       "    </tr>\n",
       "  </thead>\n",
       "  <tbody>\n",
       "    <tr>\n",
       "      <th>0</th>\n",
       "      <td>1</td>\n",
       "      <td>0</td>\n",
       "      <td>1</td>\n",
       "      <td>0</td>\n",
       "      <td>1</td>\n",
       "      <td>1</td>\n",
       "      <td>1</td>\n",
       "      <td>1</td>\n",
       "      <td>1</td>\n",
       "      <td>0</td>\n",
       "      <td>0</td>\n",
       "      <td>1</td>\n",
       "    </tr>\n",
       "    <tr>\n",
       "      <th>1</th>\n",
       "      <td>1</td>\n",
       "      <td>0</td>\n",
       "      <td>0</td>\n",
       "      <td>1</td>\n",
       "      <td>0</td>\n",
       "      <td>0</td>\n",
       "      <td>1</td>\n",
       "      <td>1</td>\n",
       "      <td>0</td>\n",
       "      <td>1</td>\n",
       "      <td>1</td>\n",
       "      <td>1</td>\n",
       "    </tr>\n",
       "    <tr>\n",
       "      <th>2</th>\n",
       "      <td>1</td>\n",
       "      <td>0</td>\n",
       "      <td>1</td>\n",
       "      <td>0</td>\n",
       "      <td>1</td>\n",
       "      <td>0</td>\n",
       "      <td>1</td>\n",
       "      <td>0</td>\n",
       "      <td>1</td>\n",
       "      <td>0</td>\n",
       "      <td>1</td>\n",
       "      <td>1</td>\n",
       "    </tr>\n",
       "    <tr>\n",
       "      <th>3</th>\n",
       "      <td>0</td>\n",
       "      <td>1</td>\n",
       "      <td>0</td>\n",
       "      <td>1</td>\n",
       "      <td>0</td>\n",
       "      <td>0</td>\n",
       "      <td>0</td>\n",
       "      <td>1</td>\n",
       "      <td>0</td>\n",
       "      <td>0</td>\n",
       "      <td>0</td>\n",
       "      <td>0</td>\n",
       "    </tr>\n",
       "    <tr>\n",
       "      <th>4</th>\n",
       "      <td>0</td>\n",
       "      <td>0</td>\n",
       "      <td>1</td>\n",
       "      <td>1</td>\n",
       "      <td>0</td>\n",
       "      <td>1</td>\n",
       "      <td>1</td>\n",
       "      <td>0</td>\n",
       "      <td>1</td>\n",
       "      <td>1</td>\n",
       "      <td>0</td>\n",
       "      <td>1</td>\n",
       "    </tr>\n",
       "  </tbody>\n",
       "</table>\n",
       "</div>"
      ],
      "text/plain": [
       "  0  1  2  3  4  5  6  7  8  9  10 11\n",
       "0  1  0  1  0  1  1  1  1  1  0  0  1\n",
       "1  1  0  0  1  0  0  1  1  0  1  1  1\n",
       "2  1  0  1  0  1  0  1  0  1  0  1  1\n",
       "3  0  1  0  1  0  0  0  1  0  0  0  0\n",
       "4  0  0  1  1  0  1  1  0  1  1  0  1"
      ]
     },
     "execution_count": 221,
     "metadata": {},
     "output_type": "execute_result"
    }
   ],
   "source": [
    "report = pd.read_csv('input.csv', names=['bits'], dtype=str)\n",
    "\n",
    "d = []\n",
    "[d.append(list(row['bits'])) for index, row in report.iterrows()]\n",
    "    \n",
    "df = pd.DataFrame(d)\n",
    "df.head()"
   ]
  },
  {
   "cell_type": "code",
   "execution_count": 203,
   "id": "54799b88-7cc5-4177-88f9-903724e19828",
   "metadata": {},
   "outputs": [
    {
     "name": "stdout",
     "output_type": "stream",
     "text": [
      "2981 1114\n"
     ]
    }
   ],
   "source": [
    "gamma, epsilon = [], []\n",
    "\n",
    "for i in range(len(df.columns)):\n",
    "    gamma.append(df[i].value_counts().idxmax())\n",
    "    epsilon.append(df[i].value_counts().idxmin())\n",
    "\n",
    "gamma = int(''.join(gamma),2)\n",
    "epsilon = int(''.join(epsilon),2)\n",
    "\n",
    "print(gamma, epsilon)"
   ]
  },
  {
   "cell_type": "code",
   "execution_count": 204,
   "id": "7aa0fe54-1328-454a-8d0d-1dce7e6d8aa3",
   "metadata": {},
   "outputs": [
    {
     "data": {
      "text/plain": [
       "3320834"
      ]
     },
     "execution_count": 204,
     "metadata": {},
     "output_type": "execute_result"
    }
   ],
   "source": [
    "gamma*epsilon"
   ]
  },
  {
   "cell_type": "markdown",
   "id": "7d61d5f2-ab08-4c19-a1ca-6769ec104a87",
   "metadata": {},
   "source": [
    "## Part 2"
   ]
  },
  {
   "cell_type": "code",
   "execution_count": 222,
   "id": "0afb1d51-7a32-4df4-8368-7a767f8b1d52",
   "metadata": {},
   "outputs": [],
   "source": [
    "# Oxygen\n",
    "# data = df.copy()\n",
    "\n",
    "# for column in data:\n",
    "#     if len(data) == 1:\n",
    "#         break\n",
    "#     column_rows = data[column]\n",
    "#     counts = column_rows.value_counts()\n",
    "#     if counts[0] == counts[1]:\n",
    "#         data = data[column_rows != '0']\n",
    "#     else:\n",
    "#         data = data[column_rows != counts.idxmin()]\n",
    "\n",
    "# bit_value = data.apply(''.join, axis=1).values[0]\n",
    "# decimal_value = int(bit_value,2)\n",
    "\n",
    "# print(bit_value, decimal_value)"
   ]
  },
  {
   "cell_type": "code",
   "execution_count": 205,
   "id": "0efc98f6-ca5a-4e6d-afd8-4cdbcc9f331e",
   "metadata": {},
   "outputs": [
    {
     "name": "stdout",
     "output_type": "stream",
     "text": [
      "101011101111 2799\n"
     ]
    }
   ],
   "source": [
    "oxygen = df.copy()\n",
    "\n",
    "for i in range(len(oxygen.columns)):\n",
    "    try:\n",
    "        # print(oxygen)\n",
    "        # print('--------------')\n",
    "        if oxygen[i].value_counts()[0] == oxygen[i].value_counts()[1]:\n",
    "            oxygen = oxygen[oxygen[i] != '0']\n",
    "        else:\n",
    "            oxygen = oxygen[oxygen[i] != oxygen[i].value_counts().idxmin()]\n",
    "    except:\n",
    "        pass\n",
    "\n",
    "oxygen_value = oxygen.apply(''.join, axis=1).values[0]\n",
    "print(oxygen_value, int(oxygen_value,2))"
   ]
  },
  {
   "cell_type": "code",
   "execution_count": 206,
   "id": "e4838cf7-6fda-48fc-bf45-b421e3bb4fdd",
   "metadata": {},
   "outputs": [
    {
     "name": "stdout",
     "output_type": "stream",
     "text": [
      "011001000001 1601\n"
     ]
    }
   ],
   "source": [
    "CO2 = df.copy()\n",
    "\n",
    "for i in range(len(CO2.columns)):\n",
    "    try:\n",
    "        # print(CO2)\n",
    "        # print('--------------')\n",
    "        if CO2[i].value_counts()[0] == CO2[i].value_counts()[1]:\n",
    "            CO2 = CO2[CO2[i] != '1']\n",
    "        else:\n",
    "            CO2 = CO2[CO2[i] != CO2[i].value_counts().idxmax()]\n",
    "    except:\n",
    "        pass\n",
    "\n",
    "CO2_value = CO2.apply(''.join, axis=1).values[0]\n",
    "print(CO2_value, int(CO2_value,2))"
   ]
  },
  {
   "cell_type": "code",
   "execution_count": 207,
   "id": "8d0f06e9-eba1-4135-a241-139000cca348",
   "metadata": {},
   "outputs": [
    {
     "data": {
      "text/plain": [
       "4481199"
      ]
     },
     "execution_count": 207,
     "metadata": {},
     "output_type": "execute_result"
    }
   ],
   "source": [
    "int(CO2_value,2) * int(oxygen_value,2)"
   ]
  },
  {
   "cell_type": "code",
   "execution_count": null,
   "id": "e513616d-33f6-4090-9629-24d3af69717b",
   "metadata": {},
   "outputs": [],
   "source": []
  }
 ],
 "metadata": {
  "kernelspec": {
   "display_name": "Python 3 (ipykernel)",
   "language": "python",
   "name": "python3"
  },
  "language_info": {
   "codemirror_mode": {
    "name": "ipython",
    "version": 3
   },
   "file_extension": ".py",
   "mimetype": "text/x-python",
   "name": "python",
   "nbconvert_exporter": "python",
   "pygments_lexer": "ipython3",
   "version": "3.9.7"
  }
 },
 "nbformat": 4,
 "nbformat_minor": 5
}
