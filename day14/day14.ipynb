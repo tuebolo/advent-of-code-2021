{
 "cells": [
  {
   "cell_type": "markdown",
   "id": "e4cee990-e237-4645-ab7d-c5c627f85a52",
   "metadata": {},
   "source": [
    "## Part 1"
   ]
  },
  {
   "cell_type": "code",
   "execution_count": 25,
   "id": "05407c40-5ed7-4e56-9d30-4b8f92aeeefa",
   "metadata": {},
   "outputs": [],
   "source": [
    "def make_polymer(insertion_rules, template):\n",
    "    pairs = list(zip(template, template[1:]))\n",
    "    monomers = [insertion_rules.get(pair) for pair in pairs]\n",
    "    template = ''.join(''.join(x) for x in zip(template, monomers)) + template[-1]\n",
    "    return template"
   ]
  },
  {
   "cell_type": "code",
   "execution_count": 26,
   "id": "43e0ed12-3073-428f-9f47-216626745a1a",
   "metadata": {},
   "outputs": [
    {
     "data": {
      "text/plain": [
       "2435"
      ]
     },
     "execution_count": 26,
     "metadata": {},
     "output_type": "execute_result"
    }
   ],
   "source": [
    "with open('input.txt') as f:\n",
    "    lines = f.read().splitlines()\n",
    "\n",
    "insertion_rules = dict()\n",
    "\n",
    "for line in lines:\n",
    "    if '->' in line:\n",
    "        pair = line.split(' -> ')\n",
    "        insertion_rules[tuple(pair[0])] = pair[1]\n",
    "    elif line != '':\n",
    "        template = line\n",
    "\n",
    "steps = 10\n",
    "for i in range(steps):\n",
    "    template = make_polymer(insertion_rules, template)\n",
    "\n",
    "from collections import Counter\n",
    "largest = Counter(template).most_common(1)[0][1]\n",
    "smallest = Counter(template).most_common()[-1][1]\n",
    "largest - smallest"
   ]
  },
  {
   "cell_type": "markdown",
   "id": "348cd44c-c157-490a-8e9e-4ad64fd8c10e",
   "metadata": {},
   "source": [
    "## Part 2"
   ]
  },
  {
   "cell_type": "code",
   "execution_count": 305,
   "id": "b846ec10-f803-4764-9801-8fc496634978",
   "metadata": {},
   "outputs": [],
   "source": [
    "def make_big_polymer(template_count, insertion_rules):\n",
    "    temp_count = {key: 0 for key in insertion_rules.keys()}\n",
    "\n",
    "    for pair in template_count:\n",
    "        if template_count.get(pair) > 0:\n",
    "            monomer = insertion_rules.get(pair)\n",
    "            temp_count[pair[0]+monomer] += template_count.get(pair) \n",
    "            temp_count[monomer+pair[1]] += template_count.get(pair)\n",
    "\n",
    "    return temp_count\n",
    "\n",
    "def get_monomer_counts(template_count):\n",
    "    monomers = set(''.join(template_count.keys()))\n",
    "    final_counts = {key: 0 for key in monomers}\n",
    "\n",
    "    for monomer in monomers:\n",
    "        for pair in template_count.keys():\n",
    "            if monomer in pair[0]:\n",
    "                final_counts[monomer] += template_count.get(pair) \n",
    "        if monomer == template[-1][-1]: \n",
    "            final_counts[monomer] += 1 # we need to add on the tail\n",
    "    \n",
    "    return final_counts"
   ]
  },
  {
   "cell_type": "code",
   "execution_count": 306,
   "id": "440b7d21-8112-40a9-a6ac-fa023f084ea2",
   "metadata": {},
   "outputs": [
    {
     "data": {
      "text/plain": [
       "2587447599164"
      ]
     },
     "execution_count": 306,
     "metadata": {},
     "output_type": "execute_result"
    }
   ],
   "source": [
    "with open('input.txt') as f:\n",
    "    lines = f.read().splitlines()\n",
    "\n",
    "insertion_rules = dict()\n",
    "\n",
    "for line in lines:\n",
    "    if '->' in line:\n",
    "        pair = line.split(' -> ')\n",
    "        insertion_rules[pair[0]] = pair[1]\n",
    "    elif line != '':\n",
    "        template = [line[i:i+2] for i in range(0, len(line), 1)][:-1]\n",
    "\n",
    "template_count = {key: 0 for key in insertion_rules.keys()}\n",
    "\n",
    "for pair in template:\n",
    "    template_count[pair] += 1 \n",
    "\n",
    "steps = 40\n",
    "\n",
    "for i in range(steps):\n",
    "    template_count = make_big_polymer(template_count, insertion_rules)\n",
    "\n",
    "final_counts = get_monomer_counts(template_count)\n",
    "\n",
    "largest = max(final_counts.values())\n",
    "smallest = min(final_counts.values())\n",
    "largest-smallest"
   ]
  },
  {
   "cell_type": "code",
   "execution_count": null,
   "id": "74ba4622-38c3-4d5a-b6f2-9e34c175f66d",
   "metadata": {},
   "outputs": [],
   "source": []
  }
 ],
 "metadata": {
  "kernelspec": {
   "display_name": "Python 3 (ipykernel)",
   "language": "python",
   "name": "python3"
  },
  "language_info": {
   "codemirror_mode": {
    "name": "ipython",
    "version": 3
   },
   "file_extension": ".py",
   "mimetype": "text/x-python",
   "name": "python",
   "nbconvert_exporter": "python",
   "pygments_lexer": "ipython3",
   "version": "3.10.1"
  }
 },
 "nbformat": 4,
 "nbformat_minor": 5
}
