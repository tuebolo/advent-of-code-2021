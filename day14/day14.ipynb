{
 "cells": [
  {
   "cell_type": "markdown",
   "id": "e4cee990-e237-4645-ab7d-c5c627f85a52",
   "metadata": {},
   "source": [
    "## Part 1"
   ]
  },
  {
   "cell_type": "code",
   "execution_count": 25,
   "id": "05407c40-5ed7-4e56-9d30-4b8f92aeeefa",
   "metadata": {},
   "outputs": [],
   "source": [
    "def make_polymer(insertion_rules, template):\n",
    "    pairs = list(zip(template, template[1:]))\n",
    "    monomers = [insertion_rules.get(pair) for pair in pairs]\n",
    "    template = ''.join(''.join(x) for x in zip(template, monomers)) + template[-1]\n",
    "    return template"
   ]
  },
  {
   "cell_type": "code",
   "execution_count": 26,
   "id": "43e0ed12-3073-428f-9f47-216626745a1a",
   "metadata": {},
   "outputs": [
    {
     "data": {
      "text/plain": [
       "2435"
      ]
     },
     "execution_count": 26,
     "metadata": {},
     "output_type": "execute_result"
    }
   ],
   "source": [
    "with open('input.txt') as f:\n",
    "    lines = f.read().splitlines()\n",
    "\n",
    "insertion_rules = dict()\n",
    "\n",
    "for line in lines:\n",
    "    if '->' in line:\n",
    "        pair = line.split(' -> ')\n",
    "        insertion_rules[tuple(pair[0])] = pair[1]\n",
    "    elif line != '':\n",
    "        template = line\n",
    "\n",
    "steps = 10\n",
    "for i in range(steps):\n",
    "    template = make_polymer(insertion_rules, template)\n",
    "\n",
    "from collections import Counter\n",
    "largest = Counter(template).most_common(1)[0][1]\n",
    "smallest = Counter(template).most_common()[-1][1]\n",
    "largest - smallest"
   ]
  },
  {
   "cell_type": "markdown",
   "id": "348cd44c-c157-490a-8e9e-4ad64fd8c10e",
   "metadata": {},
   "source": [
    "## Part 2"
   ]
  }
 ],
 "metadata": {
  "kernelspec": {
   "display_name": "Python 3 (ipykernel)",
   "language": "python",
   "name": "python3"
  },
  "language_info": {
   "codemirror_mode": {
    "name": "ipython",
    "version": 3
   },
   "file_extension": ".py",
   "mimetype": "text/x-python",
   "name": "python",
   "nbconvert_exporter": "python",
   "pygments_lexer": "ipython3",
   "version": "3.10.1"
  }
 },
 "nbformat": 4,
 "nbformat_minor": 5
}
