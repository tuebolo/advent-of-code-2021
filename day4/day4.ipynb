{
 "cells": [
  {
   "cell_type": "markdown",
   "id": "de8227eb-89ac-408a-9e61-f285e2d785de",
   "metadata": {},
   "source": [
    "## Part 1"
   ]
  },
  {
   "cell_type": "code",
   "execution_count": 79,
   "id": "3abb2785-8390-45ac-9259-efb57f96ce23",
   "metadata": {},
   "outputs": [],
   "source": [
    "import numpy as np\n",
    "import collections"
   ]
  },
  {
   "cell_type": "code",
   "execution_count": 173,
   "id": "d11031ef-3b7b-4062-a76b-653220de3bda",
   "metadata": {},
   "outputs": [],
   "source": [
    "with open('input.csv') as f:\n",
    "    lines = f.readlines()\n",
    "    \n",
    "drawn_numbers = list(map(int,lines[0].split()[0].split(',')))\n",
    "bingo_data = lines[2:]"
   ]
  },
  {
   "cell_type": "code",
   "execution_count": 220,
   "id": "874de8ec-4006-47ad-a2a9-2945d0eb363c",
   "metadata": {},
   "outputs": [
    {
     "name": "stdout",
     "output_type": "stream",
     "text": [
      "BINGO!! Sheet: 85 \n",
      " [[55 15 85 39  4]\n",
      " [-1 -1 -1 -1 -1]\n",
      " [-1 47 61  9 66]\n",
      " [82 32 -1 -1 16]\n",
      " [50 96 14 60 35]]\n"
     ]
    }
   ],
   "source": [
    "bingo_sheets = np.loadtxt(bingo_data)\n",
    "bingo_sheets = np.split(bingo_sheets.astype(int), len(bingo_sheets)/5)\n",
    "\n",
    "bingo_sheets_master = np.copy(bingo_sheets)\n",
    "\n",
    "winner_found = False\n",
    "\n",
    "for drawn_number in drawn_numbers:\n",
    "    \n",
    "    # print('------------------')\n",
    "    # print(f'Drawn Number: {drawn_number} \\n')\n",
    "    \n",
    "    # check if a winner was found\n",
    "    if winner_found == True:\n",
    "        break\n",
    "    \n",
    "    for index, bingo_sheet in enumerate(bingo_sheets):\n",
    "        \n",
    "        # print(f'Checking Sheet: {index} \\n')\n",
    "        \n",
    "        # cross out any matching numbers\n",
    "        match = np.where(bingo_sheet == drawn_number)\n",
    "        if match[0].size == 0: # no match found\n",
    "            continue\n",
    "        else:\n",
    "            row = match[0][0] # row\n",
    "            column = match[1][0] # column\n",
    "            bingo_sheet[row][column] = -1\n",
    "            \n",
    "            # check if any columns or rows have been fully crossed out\n",
    "            for line in range(5):\n",
    "                # check each column\n",
    "                if (bingo_sheet[:,line] > 0).sum() == 0:\n",
    "                    print(f'BINGO!! Sheet: {index} \\n {bingo_sheet}')\n",
    "                    winner, winning_number, winner_found = index, bingo_sheets_master[winner][match][0], True\n",
    "                    \n",
    "                # check each row\n",
    "                if (bingo_sheet[line] > 0).sum() == 0:\n",
    "                    print(f'BINGO!! Sheet: {index} \\n {bingo_sheet}')\n",
    "                    winner, winning_number, winner_found = index, bingo_sheets_master[winner][match][0], True\n",
    "                \n",
    "        # print(f'Sheet: {index} \\n {bingo_sheet} \\n')\n"
   ]
  },
  {
   "cell_type": "code",
   "execution_count": 215,
   "id": "4a4a4360-06e4-4059-bd8c-94107b108870",
   "metadata": {},
   "outputs": [
    {
     "data": {
      "text/plain": [
       "766"
      ]
     },
     "execution_count": 215,
     "metadata": {},
     "output_type": "execute_result"
    }
   ],
   "source": [
    "def sum_leftovers(array):\n",
    "    return array[array > 0].sum()\n",
    "\n",
    "sumofrows = np.apply_along_axis(sum_leftovers, 1, bingo_sheets[winner])\n",
    "sumofsheet = sum(sumofrows)    \n",
    "sumofsheet"
   ]
  },
  {
   "cell_type": "code",
   "execution_count": 216,
   "id": "ee2ac6a3-2f3a-4a50-959d-a585dcb6553c",
   "metadata": {},
   "outputs": [
    {
     "data": {
      "text/plain": [
       "95"
      ]
     },
     "execution_count": 216,
     "metadata": {},
     "output_type": "execute_result"
    }
   ],
   "source": [
    "winning_number"
   ]
  },
  {
   "cell_type": "code",
   "execution_count": 223,
   "id": "3a8a3f8f-aca8-4552-b018-c209a33578b5",
   "metadata": {},
   "outputs": [
    {
     "data": {
      "text/plain": [
       "72770"
      ]
     },
     "execution_count": 223,
     "metadata": {},
     "output_type": "execute_result"
    }
   ],
   "source": [
    "sumofsheet * winning_number"
   ]
  },
  {
   "cell_type": "markdown",
   "id": "64e148fc-181e-41b7-b740-ed1a0b400a73",
   "metadata": {},
   "source": [
    "## Part 2"
   ]
  },
  {
   "cell_type": "code",
   "execution_count": 273,
   "id": "3d362e5b-1fb5-4c68-ac54-acfb9f32853c",
   "metadata": {},
   "outputs": [],
   "source": [
    "with open('input.csv') as f:\n",
    "    lines = f.readlines()\n",
    "    \n",
    "drawn_numbers = list(map(int,lines[0].split()[0].split(',')))\n",
    "bingo_data = lines[2:]"
   ]
  },
  {
   "cell_type": "code",
   "execution_count": 274,
   "id": "7876df22-8591-4efc-a1e4-183814726a47",
   "metadata": {},
   "outputs": [
    {
     "name": "stdout",
     "output_type": "stream",
     "text": [
      "[85, 35, 59, 22, 28, 0, 55, 97, 50, 51, 58, 94, 36, 52, 66, 9, 93, 96, 60, 14, 49, 63, 70, 86, 95, 34, 47, 99, 3, 15, 53, 64, 88, 23, 26, 30, 72, 73, 98, 76, 25, 89, 32, 79, 82, 8, 37, 77, 78, 80, 65, 92, 5, 44, 46, 54, 57, 29, 68, 12, 90, 17, 24, 39, 40, 45, 67, 1, 2, 48, 71, 87, 18, 62, 11, 16, 61, 91, 41, 21, 43, 6, 13, 33, 56, 10, 84, 31, 38, 83, 27, 42, 81, 74, 19, 4, 7, 20, 69, 75]\n"
     ]
    }
   ],
   "source": [
    "bingo_sheets = np.loadtxt(bingo_data)\n",
    "bingo_sheets = np.split(bingo_sheets.astype(int), len(bingo_sheets)/5)\n",
    "bingo_sheets_master = np.copy(bingo_sheets)\n",
    "\n",
    "leader_board = []\n",
    "\n",
    "for drawn_number in drawn_numbers:\n",
    "    \n",
    "    # print('------------------')\n",
    "    # print(f'Drawn Number: {drawn_number} \\n')\n",
    "    \n",
    "    for index, bingo_sheet in enumerate(bingo_sheets):\n",
    "        \n",
    "        # don't check any winner sheets\n",
    "        if index in leader_board:\n",
    "            # print(f'Sheet {index} is a winner! \\n')\n",
    "            continue\n",
    "        \n",
    "        # cross out any matching numbers\n",
    "        match = np.where(bingo_sheet == drawn_number)\n",
    "        if match[0].size == 0: # no match found\n",
    "            continue\n",
    "        else:\n",
    "            row = match[0][0] # row\n",
    "            column = match[1][0] # column\n",
    "            bingo_sheet[row][column] = -1\n",
    "            \n",
    "            # check if any columns or rows have been fully crossed out\n",
    "            for line in range(5):\n",
    "                # check each column\n",
    "                if (bingo_sheet[:,line] > 0).sum() == 0:\n",
    "                    leader_board.append(index)\n",
    "                    winning_number = bingo_sheets_master[index][match][0]\n",
    "                    break\n",
    "                    \n",
    "                # check each row\n",
    "                if (bingo_sheet[line] > 0).sum() == 0:\n",
    "                    leader_board.append(index)\n",
    "                    winning_number = bingo_sheets_master[index][match][0]\n",
    "                    break\n",
    "                \n",
    "        # print(f'Sheet: {index} \\n {bingo_sheet} \\n')\n",
    "\n",
    "print(leader_board)"
   ]
  },
  {
   "cell_type": "code",
   "execution_count": 275,
   "id": "1659d1d4-9e5a-4db8-bc14-fd65d3314ad9",
   "metadata": {},
   "outputs": [
    {
     "data": {
      "text/plain": [
       "47"
      ]
     },
     "execution_count": 275,
     "metadata": {},
     "output_type": "execute_result"
    }
   ],
   "source": [
    "winning_number"
   ]
  },
  {
   "cell_type": "code",
   "execution_count": 276,
   "id": "c363b7e4-f6e7-4571-b270-1076038b6ad9",
   "metadata": {},
   "outputs": [
    {
     "data": {
      "text/plain": [
       "296"
      ]
     },
     "execution_count": 276,
     "metadata": {},
     "output_type": "execute_result"
    }
   ],
   "source": [
    "sumofrows = np.apply_along_axis(sum_leftovers, 1, bingo_sheets[leader_board[-1]])\n",
    "sumofsheet = sum(sumofrows)    \n",
    "sumofsheet"
   ]
  },
  {
   "cell_type": "code",
   "execution_count": 277,
   "id": "c2f6faca-be51-4a8f-89b1-9a841851dc22",
   "metadata": {},
   "outputs": [
    {
     "data": {
      "text/plain": [
       "13912"
      ]
     },
     "execution_count": 277,
     "metadata": {},
     "output_type": "execute_result"
    }
   ],
   "source": [
    "sumofsheet * winning_number"
   ]
  },
  {
   "cell_type": "markdown",
   "id": "d61eaa67-caf6-41d8-9913-9f27f79fbc7d",
   "metadata": {},
   "source": [
    "## Object Oriented Design"
   ]
  },
  {
   "cell_type": "code",
   "execution_count": null,
   "id": "553d983e-f205-4b4c-8277-9d56d35d8832",
   "metadata": {},
   "outputs": [],
   "source": [
    "class Sheet:\n",
    "    def __init__(self, sheet):\n",
    "        self.sheet = sheet\n",
    "    \n",
    "    def finished(self):\n",
    "        pass\n",
    "    \n",
    "    def mark(self, number):\n",
    "        indices = list(zip(*np.where(self.sheet == number)))\n",
    "        for row, column in indices:\n",
    "            self.sheet[row, column] = -1\n",
    "        return len(indices) > 0\n",
    "        \n",
    "    def __repr__(self):\n",
    "        return repr(self.sheet)\n",
    "         \n",
    "sheets = [Sheet(sheet) for sheet in bingo_sheets]\n",
    "sheets[0].mark(13)\n",
    "sheets[0]"
   ]
  },
  {
   "cell_type": "code",
   "execution_count": null,
   "id": "d0e0ee5b-41b1-47d9-aa42-157ffc19ceb3",
   "metadata": {},
   "outputs": [],
   "source": [
    "class Board:\n",
    "    \n",
    "    board_nums = [][]\n",
    "    board_marked = [][]\n",
    "    \n",
    "    def contains(num):\n",
    "        pass\n",
    "    \n",
    "    def mark():\n",
    "    \n",
    "    def finished():\n",
    "        # check horizontal & vertical lines\n",
    "        arr.some(e => e.all(x = xx) and arr.all(e.some(x = xx)"
   ]
  }
 ],
 "metadata": {
  "kernelspec": {
   "display_name": "Python 3 (ipykernel)",
   "language": "python",
   "name": "python3"
  },
  "language_info": {
   "codemirror_mode": {
    "name": "ipython",
    "version": 3
   },
   "file_extension": ".py",
   "mimetype": "text/x-python",
   "name": "python",
   "nbconvert_exporter": "python",
   "pygments_lexer": "ipython3",
   "version": "3.10.1"
  }
 },
 "nbformat": 4,
 "nbformat_minor": 5
}
