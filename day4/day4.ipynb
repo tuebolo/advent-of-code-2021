{
 "cells": [
  {
   "cell_type": "markdown",
   "id": "de8227eb-89ac-408a-9e61-f285e2d785de",
   "metadata": {},
   "source": [
    "## Part 1"
   ]
  },
  {
   "cell_type": "code",
   "execution_count": 170,
   "id": "3abb2785-8390-45ac-9259-efb57f96ce23",
   "metadata": {},
   "outputs": [],
   "source": [
    "import numpy as np\n",
    "import collections"
   ]
  },
  {
   "cell_type": "code",
   "execution_count": 171,
   "id": "d11031ef-3b7b-4062-a76b-653220de3bda",
   "metadata": {},
   "outputs": [],
   "source": [
    "with open('test.csv') as f:\n",
    "    lines = f.readlines()"
   ]
  },
  {
   "cell_type": "code",
   "execution_count": 208,
   "id": "4e246f6e-cc45-4d15-acd1-1a5573ab4dd1",
   "metadata": {},
   "outputs": [
    {
     "data": {
      "text/plain": [
       "[array([[22, 13, 17, 11,  0],\n",
       "        [ 8,  2, 23,  4, 24],\n",
       "        [21,  9, 14, 16,  7],\n",
       "        [ 6, 10,  3, 18,  5],\n",
       "        [ 1, 12, 20, 15, 19]]),\n",
       " array([[ 3, 15,  0,  2, 22],\n",
       "        [ 9, 18, 13, 17,  5],\n",
       "        [19,  8,  7, 25, 23],\n",
       "        [20, 11, 10, 24,  4],\n",
       "        [14, 21, 16, 12,  6]]),\n",
       " array([[14, 21, 17, 24,  4],\n",
       "        [10, 16, 15,  9, 19],\n",
       "        [18,  8, 23, 26, 20],\n",
       "        [22, 11, 13,  6,  5],\n",
       "        [ 2,  0, 12,  3,  7]])]"
      ]
     },
     "execution_count": 208,
     "metadata": {},
     "output_type": "execute_result"
    }
   ],
   "source": [
    "drawn_numbers = list(map(int,lines[0].split()[0].split(',')))\n",
    "bingo_data = lines[2:]\n",
    "\n",
    "bingo_sheets = np.loadtxt(bingo_data)\n",
    "bingo_sheets = np.split(bingo_sheets.astype(int), len(bingo_sheets)/5)\n",
    "bingo_sheets"
   ]
  },
  {
   "cell_type": "code",
   "execution_count": 173,
   "id": "1b58c6d1-1378-461a-a32c-9a776d65f6d9",
   "metadata": {},
   "outputs": [
    {
     "data": {
      "text/plain": [
       "7"
      ]
     },
     "execution_count": 173,
     "metadata": {},
     "output_type": "execute_result"
    }
   ],
   "source": [
    "drawn_numbers[0]"
   ]
  },
  {
   "cell_type": "code",
   "execution_count": 174,
   "id": "0f95a66a-df80-454a-9d32-c6fdccf13f5c",
   "metadata": {},
   "outputs": [
    {
     "name": "stdout",
     "output_type": "stream",
     "text": [
      "2 4\n"
     ]
    }
   ],
   "source": [
    "match = np.where(bingo_sheets[0] == drawn_numbers[0])\n",
    "row = match[0][0] # row\n",
    "column = match[1][0] # column\n",
    "print(row, column)"
   ]
  },
  {
   "cell_type": "code",
   "execution_count": null,
   "id": "df3222a7-e49a-4363-8688-a065fa931473",
   "metadata": {},
   "outputs": [],
   "source": []
  },
  {
   "cell_type": "code",
   "execution_count": 222,
   "id": "553d983e-f205-4b4c-8277-9d56d35d8832",
   "metadata": {},
   "outputs": [
    {
     "data": {
      "text/plain": [
       "array([[-1, -1, 17, 11,  0],\n",
       "       [ 8,  2, 23,  4, 24],\n",
       "       [21,  9, 14, 16,  7],\n",
       "       [ 6, 10,  3, 18,  5],\n",
       "       [ 1, 12, 20, 15, 19]])"
      ]
     },
     "execution_count": 222,
     "metadata": {},
     "output_type": "execute_result"
    }
   ],
   "source": [
    "class Sheet:\n",
    "    def __init__(self, sheet):\n",
    "        self.sheet = sheet\n",
    "    \n",
    "    def finished(self):\n",
    "        pass\n",
    "    \n",
    "    def mark(self, number):\n",
    "        indices = list(zip(*np.where(self.sheet == number)))\n",
    "        for row, column in indices:\n",
    "            self.sheet[row, column] = -1\n",
    "        return len(indices) > 0\n",
    "        \n",
    "    def __repr__(self):\n",
    "        return repr(self.sheet)\n",
    "         \n",
    "sheets = [Sheet(sheet) for sheet in bingo_sheets]\n",
    "sheets[0].mark(13)\n",
    "sheets[0]"
   ]
  },
  {
   "cell_type": "code",
   "execution_count": 180,
   "id": "e3b96738-dd0f-4cf9-9d3c-722349d78728",
   "metadata": {},
   "outputs": [
    {
     "name": "stdout",
     "output_type": "stream",
     "text": [
      "[[22 13 17 11  0]\n",
      " [ 8  2 23 -1 24]\n",
      " [21  9 14 16 -1]\n",
      " [ 6 10  3 18  5]\n",
      " [ 1 12 20 15 19]]\n",
      "[[ 3 15  0  2 22]\n",
      " [ 9 18 13 17  5]\n",
      " [19  8  7 25 23]\n",
      " [20 11 10 24 -1]\n",
      " [14 21 16 12  6]]\n",
      "[[14 21 17 24 -1]\n",
      " [10 16 15  9 19]\n",
      " [18  8 23 26 20]\n",
      " [22 11 13  6  5]\n",
      " [ 2  0 12  3  7]]\n",
      "[[22 13 17 11  0]\n",
      " [ 8  2 23 -1 24]\n",
      " [21 -1 14 16 -1]\n",
      " [ 6 10  3 18  5]\n",
      " [ 1 12 20 15 19]]\n",
      "[[ 3 15  0  2 22]\n",
      " [-1 18 13 17  5]\n",
      " [19  8  7 25 23]\n",
      " [20 11 10 24 -1]\n",
      " [14 21 16 12  6]]\n",
      "[[14 21 17 24 -1]\n",
      " [10 16 15 -1 19]\n",
      " [18  8 23 26 20]\n",
      " [22 11 13  6  5]\n",
      " [ 2  0 12  3  7]]\n",
      "[[22 13 17 11  0]\n",
      " [ 8  2 23 -1 24]\n",
      " [21 -1 14 16 -1]\n",
      " [ 6 10  3 18 -1]\n",
      " [ 1 12 20 15 19]]\n",
      "[[ 3 15  0  2 22]\n",
      " [-1 18 13 17 -1]\n",
      " [19  8  7 25 23]\n",
      " [20 11 10 24 -1]\n",
      " [14 21 16 12  6]]\n",
      "[[14 21 17 24 -1]\n",
      " [10 16 15 -1 19]\n",
      " [18  8 23 26 20]\n",
      " [22 11 13  6 -1]\n",
      " [ 2  0 12  3  7]]\n",
      "[[22 13 17 -1  0]\n",
      " [ 8  2 23 -1 24]\n",
      " [21 -1 14 16 -1]\n",
      " [ 6 10  3 18 -1]\n",
      " [ 1 12 20 15 19]]\n",
      "[[ 3 15  0  2 22]\n",
      " [-1 18 13 17 -1]\n",
      " [19  8  7 25 23]\n",
      " [20 -1 10 24 -1]\n",
      " [14 21 16 12  6]]\n",
      "[[14 21 17 24 -1]\n",
      " [10 16 15 -1 19]\n",
      " [18  8 23 26 20]\n",
      " [22 -1 13  6 -1]\n",
      " [ 2  0 12  3  7]]\n",
      "[[22 13 -1 -1  0]\n",
      " [ 8  2 23 -1 24]\n",
      " [21 -1 14 16 -1]\n",
      " [ 6 10  3 18 -1]\n",
      " [ 1 12 20 15 19]]\n",
      "[[ 3 15  0  2 22]\n",
      " [-1 18 13 -1 -1]\n",
      " [19  8  7 25 23]\n",
      " [20 -1 10 24 -1]\n",
      " [14 21 16 12  6]]\n",
      "[[14 21 -1 24 -1]\n",
      " [10 16 15 -1 19]\n",
      " [18  8 23 26 20]\n",
      " [22 -1 13  6 -1]\n",
      " [ 2  0 12  3  7]]\n",
      "[[22 13 -1 -1  0]\n",
      " [ 8  2 -1 -1 24]\n",
      " [21 -1 14 16 -1]\n",
      " [ 6 10  3 18 -1]\n",
      " [ 1 12 20 15 19]]\n",
      "[[ 3 15  0  2 22]\n",
      " [-1 18 13 -1 -1]\n",
      " [19  8  7 25 -1]\n",
      " [20 -1 10 24 -1]\n",
      " [14 21 16 12  6]]\n",
      "[[14 21 -1 24 -1]\n",
      " [10 16 15 -1 19]\n",
      " [18  8 -1 26 20]\n",
      " [22 -1 13  6 -1]\n",
      " [ 2  0 12  3  7]]\n",
      "[[22 13 -1 -1  0]\n",
      " [ 8 -1 -1 -1 24]\n",
      " [21 -1 14 16 -1]\n",
      " [ 6 10  3 18 -1]\n",
      " [ 1 12 20 15 19]]\n",
      "[[ 3 15  0 -1 22]\n",
      " [-1 18 13 -1 -1]\n",
      " [19  8  7 25 -1]\n",
      " [20 -1 10 24 -1]\n",
      " [14 21 16 12  6]]\n",
      "[[14 21 -1 24 -1]\n",
      " [10 16 15 -1 19]\n",
      " [18  8 -1 26 20]\n",
      " [22 -1 13  6 -1]\n",
      " [-1  0 12  3  7]]\n",
      "[[22 13 -1 -1 -1]\n",
      " [ 8 -1 -1 -1 24]\n",
      " [21 -1 14 16 -1]\n",
      " [ 6 10  3 18 -1]\n",
      " [ 1 12 20 15 19]]\n",
      "[[ 3 15 -1 -1 22]\n",
      " [-1 18 13 -1 -1]\n",
      " [19  8  7 25 -1]\n",
      " [20 -1 10 24 -1]\n",
      " [14 21 16 12  6]]\n",
      "[[14 21 -1 24 -1]\n",
      " [10 16 15 -1 19]\n",
      " [18  8 -1 26 20]\n",
      " [22 -1 13  6 -1]\n",
      " [-1 -1 12  3  7]]\n",
      "[[22 13 -1 -1 -1]\n",
      " [ 8 -1 -1 -1 24]\n",
      " [21 -1 -1 16 -1]\n",
      " [ 6 10  3 18 -1]\n",
      " [ 1 12 20 15 19]]\n",
      "[[ 3 15 -1 -1 22]\n",
      " [-1 18 13 -1 -1]\n",
      " [19  8  7 25 -1]\n",
      " [20 -1 10 24 -1]\n",
      " [-1 21 16 12  6]]\n",
      "[[-1 21 -1 24 -1]\n",
      " [10 16 15 -1 19]\n",
      " [18  8 -1 26 20]\n",
      " [22 -1 13  6 -1]\n",
      " [-1 -1 12  3  7]]\n",
      "[[22 13 -1 -1 -1]\n",
      " [ 8 -1 -1 -1 24]\n",
      " [-1 -1 -1 16 -1]\n",
      " [ 6 10  3 18 -1]\n",
      " [ 1 12 20 15 19]]\n",
      "[[ 3 15 -1 -1 22]\n",
      " [-1 18 13 -1 -1]\n",
      " [19  8  7 25 -1]\n",
      " [20 -1 10 24 -1]\n",
      " [-1 -1 16 12  6]]\n",
      "[[-1 -1 -1 24 -1]\n",
      " [10 16 15 -1 19]\n",
      " [18  8 -1 26 20]\n",
      " [22 -1 13  6 -1]\n",
      " [-1 -1 12  3  7]]\n",
      "[[22 13 -1 -1 -1]\n",
      " [ 8 -1 -1 -1 -1]\n",
      " [-1 -1 -1 16 -1]\n",
      " [ 6 10  3 18 -1]\n",
      " [ 1 12 20 15 19]]\n",
      "[[ 3 15 -1 -1 22]\n",
      " [-1 18 13 -1 -1]\n",
      " [19  8  7 25 -1]\n",
      " [20 -1 10 -1 -1]\n",
      " [-1 -1 16 12  6]]\n",
      "[[-1 -1 -1 -1 -1]\n",
      " [10 16 15 -1 19]\n",
      " [18  8 -1 26 20]\n",
      " [22 -1 13  6 -1]\n",
      " [-1 -1 12  3  7]]\n",
      "[[22 13 -1 -1 -1]\n",
      " [ 8 -1 -1 -1 -1]\n",
      " [-1 -1 -1 16 -1]\n",
      " [ 6 -1  3 18 -1]\n",
      " [ 1 12 20 15 19]]\n",
      "[[ 3 15 -1 -1 22]\n",
      " [-1 18 13 -1 -1]\n",
      " [19  8  7 25 -1]\n",
      " [20 -1 -1 -1 -1]\n",
      " [-1 -1 16 12  6]]\n",
      "[[-1 -1 -1 -1 -1]\n",
      " [-1 16 15 -1 19]\n",
      " [18  8 -1 26 20]\n",
      " [22 -1 13  6 -1]\n",
      " [-1 -1 12  3  7]]\n",
      "[[22 13 -1 -1 -1]\n",
      " [ 8 -1 -1 -1 -1]\n",
      " [-1 -1 -1 -1 -1]\n",
      " [ 6 -1  3 18 -1]\n",
      " [ 1 12 20 15 19]]\n",
      "[[ 3 15 -1 -1 22]\n",
      " [-1 18 13 -1 -1]\n",
      " [19  8  7 25 -1]\n",
      " [20 -1 -1 -1 -1]\n",
      " [-1 -1 -1 12  6]]\n",
      "[[-1 -1 -1 -1 -1]\n",
      " [-1 -1 15 -1 19]\n",
      " [18  8 -1 26 20]\n",
      " [22 -1 13  6 -1]\n",
      " [-1 -1 12  3  7]]\n",
      "[[22 -1 -1 -1 -1]\n",
      " [ 8 -1 -1 -1 -1]\n",
      " [-1 -1 -1 -1 -1]\n",
      " [ 6 -1  3 18 -1]\n",
      " [ 1 12 20 15 19]]\n",
      "[[ 3 15 -1 -1 22]\n",
      " [-1 18 -1 -1 -1]\n",
      " [19  8  7 25 -1]\n",
      " [20 -1 -1 -1 -1]\n",
      " [-1 -1 -1 12  6]]\n",
      "[[-1 -1 -1 -1 -1]\n",
      " [-1 -1 15 -1 19]\n",
      " [18  8 -1 26 20]\n",
      " [22 -1 -1  6 -1]\n",
      " [-1 -1 12  3  7]]\n",
      "[[22 -1 -1 -1 -1]\n",
      " [ 8 -1 -1 -1 -1]\n",
      " [-1 -1 -1 -1 -1]\n",
      " [-1 -1  3 18 -1]\n",
      " [ 1 12 20 15 19]]\n",
      "[[ 3 15 -1 -1 22]\n",
      " [-1 18 -1 -1 -1]\n",
      " [19  8  7 25 -1]\n",
      " [20 -1 -1 -1 -1]\n",
      " [-1 -1 -1 12 -1]]\n",
      "[[-1 -1 -1 -1 -1]\n",
      " [-1 -1 15 -1 19]\n",
      " [18  8 -1 26 20]\n",
      " [22 -1 -1 -1 -1]\n",
      " [-1 -1 12  3  7]]\n",
      "[[22 -1 -1 -1 -1]\n",
      " [ 8 -1 -1 -1 -1]\n",
      " [-1 -1 -1 -1 -1]\n",
      " [-1 -1  3 18 -1]\n",
      " [ 1 12 20 -1 19]]\n",
      "[[ 3 -1 -1 -1 22]\n",
      " [-1 18 -1 -1 -1]\n",
      " [19  8  7 25 -1]\n",
      " [20 -1 -1 -1 -1]\n",
      " [-1 -1 -1 12 -1]]\n",
      "[[-1 -1 -1 -1 -1]\n",
      " [-1 -1 -1 -1 19]\n",
      " [18  8 -1 26 20]\n",
      " [22 -1 -1 -1 -1]\n",
      " [-1 -1 12  3  7]]\n",
      "[[22 -1 -1 -1 -1]\n",
      " [ 8 -1 -1 -1 -1]\n",
      " [-1 -1 -1 -1 -1]\n",
      " [-1 -1  3 18 -1]\n",
      " [ 1 -1 20 -1 19]]\n",
      "[[ 3 -1 -1 -1 22]\n",
      " [-1 18 -1 -1 -1]\n",
      " [19  8  7 25 -1]\n",
      " [20 -1 -1 -1 -1]\n",
      " [-1 -1 -1 -1 -1]]\n",
      "[[-1 -1 -1 -1 -1]\n",
      " [-1 -1 -1 -1 19]\n",
      " [18  8 -1 26 20]\n",
      " [22 -1 -1 -1 -1]\n",
      " [-1 -1 -1  3  7]]\n",
      "[[-1 -1 -1 -1 -1]\n",
      " [ 8 -1 -1 -1 -1]\n",
      " [-1 -1 -1 -1 -1]\n",
      " [-1 -1  3 18 -1]\n",
      " [ 1 -1 20 -1 19]]\n",
      "[[ 3 -1 -1 -1 -1]\n",
      " [-1 18 -1 -1 -1]\n",
      " [19  8  7 25 -1]\n",
      " [20 -1 -1 -1 -1]\n",
      " [-1 -1 -1 -1 -1]]\n",
      "[[-1 -1 -1 -1 -1]\n",
      " [-1 -1 -1 -1 19]\n",
      " [18  8 -1 26 20]\n",
      " [-1 -1 -1 -1 -1]\n",
      " [-1 -1 -1  3  7]]\n",
      "[[-1 -1 -1 -1 -1]\n",
      " [ 8 -1 -1 -1 -1]\n",
      " [-1 -1 -1 -1 -1]\n",
      " [-1 -1  3 -1 -1]\n",
      " [ 1 -1 20 -1 19]]\n",
      "[[ 3 -1 -1 -1 -1]\n",
      " [-1 -1 -1 -1 -1]\n",
      " [19  8  7 25 -1]\n",
      " [20 -1 -1 -1 -1]\n",
      " [-1 -1 -1 -1 -1]]\n",
      "[[-1 -1 -1 -1 -1]\n",
      " [-1 -1 -1 -1 19]\n",
      " [-1  8 -1 26 20]\n",
      " [-1 -1 -1 -1 -1]\n",
      " [-1 -1 -1  3  7]]\n",
      "[[-1 -1 -1 -1 -1]\n",
      " [ 8 -1 -1 -1 -1]\n",
      " [-1 -1 -1 -1 -1]\n",
      " [-1 -1  3 -1 -1]\n",
      " [ 1 -1 -1 -1 19]]\n",
      "[[ 3 -1 -1 -1 -1]\n",
      " [-1 -1 -1 -1 -1]\n",
      " [19  8  7 25 -1]\n",
      " [-1 -1 -1 -1 -1]\n",
      " [-1 -1 -1 -1 -1]]\n",
      "[[-1 -1 -1 -1 -1]\n",
      " [-1 -1 -1 -1 19]\n",
      " [-1  8 -1 26 -1]\n",
      " [-1 -1 -1 -1 -1]\n",
      " [-1 -1 -1  3  7]]\n",
      "[[-1 -1 -1 -1 -1]\n",
      " [-1 -1 -1 -1 -1]\n",
      " [-1 -1 -1 -1 -1]\n",
      " [-1 -1  3 -1 -1]\n",
      " [ 1 -1 -1 -1 19]]\n",
      "[[ 3 -1 -1 -1 -1]\n",
      " [-1 -1 -1 -1 -1]\n",
      " [19 -1  7 25 -1]\n",
      " [-1 -1 -1 -1 -1]\n",
      " [-1 -1 -1 -1 -1]]\n",
      "[[-1 -1 -1 -1 -1]\n",
      " [-1 -1 -1 -1 19]\n",
      " [-1 -1 -1 26 -1]\n",
      " [-1 -1 -1 -1 -1]\n",
      " [-1 -1 -1  3  7]]\n",
      "[[-1 -1 -1 -1 -1]\n",
      " [-1 -1 -1 -1 -1]\n",
      " [-1 -1 -1 -1 -1]\n",
      " [-1 -1  3 -1 -1]\n",
      " [ 1 -1 -1 -1 -1]]\n",
      "[[ 3 -1 -1 -1 -1]\n",
      " [-1 -1 -1 -1 -1]\n",
      " [-1 -1  7 25 -1]\n",
      " [-1 -1 -1 -1 -1]\n",
      " [-1 -1 -1 -1 -1]]\n",
      "[[-1 -1 -1 -1 -1]\n",
      " [-1 -1 -1 -1 -1]\n",
      " [-1 -1 -1 26 -1]\n",
      " [-1 -1 -1 -1 -1]\n",
      " [-1 -1 -1  3  7]]\n",
      "[[-1 -1 -1 -1 -1]\n",
      " [-1 -1 -1 -1 -1]\n",
      " [-1 -1 -1 -1 -1]\n",
      " [-1 -1 -1 -1 -1]\n",
      " [ 1 -1 -1 -1 -1]]\n",
      "[[-1 -1 -1 -1 -1]\n",
      " [-1 -1 -1 -1 -1]\n",
      " [-1 -1  7 25 -1]\n",
      " [-1 -1 -1 -1 -1]\n",
      " [-1 -1 -1 -1 -1]]\n",
      "[[-1 -1 -1 -1 -1]\n",
      " [-1 -1 -1 -1 -1]\n",
      " [-1 -1 -1 26 -1]\n",
      " [-1 -1 -1 -1 -1]\n",
      " [-1 -1 -1 -1  7]]\n",
      "[[-1 -1 -1 -1 -1]\n",
      " [-1 -1 -1 -1 -1]\n",
      " [-1 -1 -1 -1 -1]\n",
      " [-1 -1 -1 -1 -1]\n",
      " [-1 -1 -1 -1 -1]]\n"
     ]
    }
   ],
   "source": [
    "for number in drawn_numbers:\n",
    "    try:\n",
    "        for sheet in sheets:\n",
    "            if sheet.mark(number):\n",
    "                print(sheet)\n",
    "    except:\n",
    "        pass"
   ]
  },
  {
   "cell_type": "code",
   "execution_count": 178,
   "id": "e3a300d5-0be2-4bde-b36e-78388ada13e8",
   "metadata": {},
   "outputs": [
    {
     "name": "stdout",
     "output_type": "stream",
     "text": [
      "(array([], dtype=int64), array([], dtype=int64))\n",
      "(array([2]), array([2]))\n",
      "(array([4]), array([4]))\n",
      "(array([1]), array([3]))\n",
      "(array([3]), array([4]))\n",
      "(array([0]), array([4]))\n",
      "(array([2]), array([1]))\n",
      "(array([1]), array([0]))\n",
      "(array([1]), array([3]))\n",
      "(array([3]), array([4]))\n",
      "(array([1]), array([4]))\n",
      "(array([3]), array([4]))\n",
      "(array([0]), array([3]))\n",
      "(array([3]), array([1]))\n",
      "(array([3]), array([1]))\n",
      "(array([0]), array([2]))\n",
      "(array([1]), array([3]))\n",
      "(array([0]), array([2]))\n",
      "(array([1]), array([2]))\n",
      "(array([2]), array([4]))\n",
      "(array([2]), array([2]))\n",
      "(array([1]), array([1]))\n",
      "(array([0]), array([3]))\n",
      "(array([4]), array([0]))\n",
      "(array([0]), array([4]))\n",
      "(array([0]), array([2]))\n",
      "(array([4]), array([1]))\n",
      "(array([2]), array([2]))\n",
      "(array([4]), array([0]))\n",
      "(array([0]), array([0]))\n",
      "(array([2]), array([0]))\n",
      "(array([4]), array([1]))\n",
      "(array([0]), array([1]))\n",
      "(array([1]), array([4]))\n",
      "(array([3]), array([3]))\n",
      "(array([0]), array([3]))\n",
      "(array([3]), array([1]))\n",
      "(array([3]), array([2]))\n",
      "(array([1]), array([0]))\n",
      "(array([2]), array([3]))\n",
      "(array([4]), array([2]))\n",
      "(array([1]), array([1]))\n",
      "(array([0]), array([1]))\n",
      "(array([1]), array([2]))\n",
      "(array([3]), array([2]))\n",
      "(array([3]), array([0]))\n",
      "(array([4]), array([4]))\n",
      "(array([3]), array([3]))\n",
      "(array([4]), array([3]))\n",
      "(array([0]), array([1]))\n",
      "(array([1]), array([2]))\n",
      "(array([], dtype=int64), array([], dtype=int64))\n",
      "(array([2]), array([3]))\n",
      "(array([], dtype=int64), array([], dtype=int64))\n",
      "(array([4]), array([1]))\n",
      "(array([4]), array([3]))\n",
      "(array([4]), array([2]))\n",
      "(array([0]), array([0]))\n",
      "(array([0]), array([4]))\n",
      "(array([3]), array([0]))\n",
      "(array([3]), array([3]))\n",
      "(array([1]), array([1]))\n",
      "(array([2]), array([0]))\n",
      "(array([4]), array([2]))\n",
      "(array([3]), array([0]))\n",
      "(array([2]), array([4]))\n",
      "(array([1]), array([0]))\n",
      "(array([2]), array([1]))\n",
      "(array([2]), array([1]))\n",
      "(array([4]), array([4]))\n",
      "(array([2]), array([0]))\n",
      "(array([1]), array([4]))\n",
      "(array([3]), array([2]))\n",
      "(array([0]), array([0]))\n",
      "(array([4]), array([3]))\n",
      "(array([], dtype=int64), array([], dtype=int64))\n",
      "(array([], dtype=int64), array([], dtype=int64))\n",
      "(array([2]), array([3]))\n",
      "(array([4]), array([0]))\n",
      "(array([], dtype=int64), array([], dtype=int64))\n",
      "(array([], dtype=int64), array([], dtype=int64))\n"
     ]
    }
   ],
   "source": [
    "for number in drawn_numbers:\n",
    "    for sheet in bingo_sheets:\n",
    "        match = np.where(sheet == number)\n",
    "        print(match)"
   ]
  },
  {
   "cell_type": "code",
   "execution_count": 175,
   "id": "f5e04c0e-8fcc-4c99-b9ac-25d10b8e02fb",
   "metadata": {},
   "outputs": [
    {
     "data": {
      "text/plain": [
       "[array([[22, 13, 17, 11,  0],\n",
       "        [ 8,  2, 23,  4, 24],\n",
       "        [21,  9, 14, 16, -1],\n",
       "        [ 6, 10,  3, 18,  5],\n",
       "        [ 1, 12, 20, 15, 19]]),\n",
       " array([[ 3, 15,  0,  2, 22],\n",
       "        [ 9, 18, 13, 17,  5],\n",
       "        [19,  8,  7, 25, 23],\n",
       "        [20, 11, 10, 24,  4],\n",
       "        [14, 21, 16, 12,  6]]),\n",
       " array([[14, 21, 17, 24,  4],\n",
       "        [10, 16, 15,  9, 19],\n",
       "        [18,  8, 23, 26, 20],\n",
       "        [22, 11, 13,  6,  5],\n",
       "        [ 2,  0, 12,  3,  7]])]"
      ]
     },
     "execution_count": 175,
     "metadata": {},
     "output_type": "execute_result"
    }
   ],
   "source": [
    "bingo_sheets[0][row, column] = -1\n",
    "bingo_sheets"
   ]
  },
  {
   "cell_type": "code",
   "execution_count": 123,
   "id": "6b781e5e-35a0-4911-9248-3dd40f40b66d",
   "metadata": {},
   "outputs": [
    {
     "data": {
      "text/plain": [
       "array([[22, 13, 17, 11,  0],\n",
       "       [ 8,  2, 23,  4, 24],\n",
       "       [21,  9, 14, 16,  7],\n",
       "       [ 6, 10,  3, 18,  5],\n",
       "       [ 1, 12, 20, 15, 19]])"
      ]
     },
     "execution_count": 123,
     "metadata": {},
     "output_type": "execute_result"
    }
   ],
   "source": [
    "bingo_sheets[0].astype(int)"
   ]
  },
  {
   "cell_type": "code",
   "execution_count": 118,
   "id": "0f96a538-8bc6-4ecf-b73f-54a12bb57435",
   "metadata": {},
   "outputs": [
    {
     "data": {
      "text/plain": [
       "array([ True, False,  True,  True,  True])"
      ]
     },
     "execution_count": 118,
     "metadata": {},
     "output_type": "execute_result"
    }
   ],
   "source": [
    "(bingo_sheets[0] > 15).any(0) #column"
   ]
  },
  {
   "cell_type": "code",
   "execution_count": 129,
   "id": "f580fcbe-6c5f-4f6f-bb74-5252dba28e9e",
   "metadata": {},
   "outputs": [
    {
     "data": {
      "text/plain": [
       "Counter({22.0: 1, 13.0: 1, 17.0: 1, 11.0: 1, 0.0: 1})"
      ]
     },
     "execution_count": 129,
     "metadata": {},
     "output_type": "execute_result"
    }
   ],
   "source": [
    "collections.Counter(bingo_sheets[0][0])"
   ]
  },
  {
   "cell_type": "code",
   "execution_count": 120,
   "id": "f7a51e7a-bf73-4456-b1d9-0e403552f20b",
   "metadata": {},
   "outputs": [
    {
     "data": {
      "text/plain": [
       "array([ True,  True,  True, False, False])"
      ]
     },
     "execution_count": 120,
     "metadata": {},
     "output_type": "execute_result"
    }
   ],
   "source": [
    "(bingo_sheets[0] > 20).any(1) #row"
   ]
  },
  {
   "cell_type": "code",
   "execution_count": 93,
   "id": "bb785344-adea-4769-af68-eded8c4374d1",
   "metadata": {},
   "outputs": [
    {
     "data": {
      "text/plain": [
       "array(['22', '13', '17', '11', '0'], dtype='<U2')"
      ]
     },
     "execution_count": 94,
     "metadata": {},
     "output_type": "execute_result"
    }
   ],
   "source": [
    "bingo_sheets[0][0]"
   ]
  },
  {
   "cell_type": "code",
   "execution_count": null,
   "id": "d0e0ee5b-41b1-47d9-aa42-157ffc19ceb3",
   "metadata": {},
   "outputs": [],
   "source": [
    "class Board:\n",
    "    \n",
    "    bord_nums = [][]\n",
    "    board_marked = [][]\n",
    "    \n",
    "    def contains(num):\n",
    "        pass\n",
    "    \n",
    "    def mark():\n",
    "    \n",
    "    def finished():\n",
    "        # check horizontal & vertical lines\n",
    "        arr.some(e => e.all(x = xx) and arr.all(e.some(x = xx)"
   ]
  }
 ],
 "metadata": {
  "kernelspec": {
   "display_name": "Python 3 (ipykernel)",
   "language": "python",
   "name": "python3"
  },
  "language_info": {
   "codemirror_mode": {
    "name": "ipython",
    "version": 3
   },
   "file_extension": ".py",
   "mimetype": "text/x-python",
   "name": "python",
   "nbconvert_exporter": "python",
   "pygments_lexer": "ipython3",
   "version": "3.9.7"
  }
 },
 "nbformat": 4,
 "nbformat_minor": 5
}
