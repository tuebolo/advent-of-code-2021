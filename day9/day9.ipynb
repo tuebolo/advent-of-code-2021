{
 "cells": [
  {
   "cell_type": "markdown",
   "id": "dfbf0db8-6f10-4c26-a6ed-6ace904c8784",
   "metadata": {},
   "source": [
    "## Part 1"
   ]
  },
  {
   "cell_type": "code",
   "execution_count": 49,
   "id": "2ef0b413-2893-464d-994f-9e26243a3e83",
   "metadata": {},
   "outputs": [],
   "source": [
    "import copy\n",
    "\n",
    "with open('input.txt') as f:\n",
    "    lines = f.read().splitlines()\n",
    "\n",
    "lines = [list(map(int, line)) for line in lines]\n",
    "lava_tubes = lines"
   ]
  },
  {
   "cell_type": "code",
   "execution_count": 50,
   "id": "89fb4fd7-1ced-4a07-b61f-940b30b10e6b",
   "metadata": {},
   "outputs": [
    {
     "data": {
      "text/plain": "[(0, 66),\n (0, 92),\n (1, 17),\n (1, 59),\n (2, 36),\n (2, 46),\n (3, 26),\n (3, 79),\n (3, 97),\n (4, 2),\n (4, 10),\n (4, 70),\n (5, 23),\n (5, 64),\n (6, 40),\n (6, 52),\n (6, 90),\n (7, 19),\n (8, 25),\n (8, 83),\n (8, 98),\n (9, 13),\n (9, 47),\n (9, 64),\n (9, 70),\n (10, 34),\n (10, 57),\n (11, 7),\n (11, 75),\n (11, 85),\n (12, 2),\n (12, 80),\n (12, 93),\n (13, 12),\n (13, 21),\n (14, 34),\n (14, 51),\n (14, 99),\n (15, 15),\n (15, 28),\n (15, 62),\n (16, 84),\n (17, 0),\n (17, 41),\n (17, 46),\n (17, 67),\n (18, 59),\n (18, 97),\n (19, 23),\n (19, 53),\n (20, 12),\n (20, 33),\n (21, 63),\n (21, 74),\n (21, 82),\n (22, 29),\n (22, 39),\n (23, 6),\n (23, 43),\n (23, 89),\n (25, 47),\n (25, 99),\n (26, 3),\n (26, 18),\n (26, 35),\n (27, 30),\n (27, 52),\n (27, 68),\n (28, 42),\n (28, 58),\n (29, 11),\n (29, 76),\n (30, 46),\n (30, 85),\n (32, 23),\n (32, 38),\n (33, 91),\n (34, 8),\n (34, 80),\n (34, 98),\n (35, 87),\n (36, 0),\n (36, 17),\n (36, 61),\n (36, 67),\n (37, 33),\n (38, 27),\n (38, 47),\n (38, 56),\n (39, 39),\n (39, 67),\n (39, 73),\n (40, 86),\n (41, 7),\n (41, 16),\n (42, 70),\n (43, 81),\n (44, 23),\n (44, 35),\n (44, 62),\n (44, 93),\n (45, 77),\n (46, 0),\n (46, 10),\n (46, 28),\n (46, 88),\n (47, 44),\n (47, 52),\n (48, 18),\n (48, 64),\n (48, 99),\n (49, 39),\n (51, 33),\n (51, 80),\n (51, 93),\n (52, 2),\n (52, 23),\n (52, 58),\n (53, 50),\n (53, 69),\n (55, 20),\n (55, 75),\n (56, 11),\n (56, 63),\n (56, 86),\n (56, 98),\n (57, 5),\n (57, 37),\n (58, 17),\n (58, 44),\n (58, 93),\n (59, 49),\n (60, 2),\n (60, 22),\n (60, 47),\n (60, 79),\n (61, 29),\n (61, 65),\n (61, 99),\n (62, 41),\n (62, 54),\n (63, 16),\n (64, 11),\n (65, 2),\n (65, 21),\n (65, 91),\n (66, 65),\n (66, 85),\n (67, 5),\n (67, 24),\n (67, 48),\n (67, 62),\n (68, 96),\n (69, 10),\n (69, 16),\n (69, 44),\n (69, 71),\n (69, 88),\n (70, 55),\n (70, 62),\n (70, 79),\n (71, 1),\n (71, 15),\n (71, 34),\n (72, 40),\n (72, 84),\n (74, 10),\n (75, 27),\n (75, 77),\n (75, 92),\n (76, 5),\n (76, 20),\n (76, 53),\n (76, 66),\n (76, 87),\n (77, 13),\n (78, 34),\n (78, 60),\n (78, 97),\n (79, 24),\n (79, 41),\n (79, 81),\n (80, 49),\n (80, 54),\n (80, 71),\n (81, 10),\n (82, 26),\n (83, 3),\n (83, 32),\n (84, 17),\n (84, 44),\n (84, 92),\n (85, 12),\n (86, 37),\n (86, 60),\n (87, 73),\n (88, 0),\n (88, 15),\n (88, 23),\n (88, 51),\n (88, 82),\n (89, 29),\n (91, 67),\n (91, 96),\n (92, 10),\n (92, 36),\n (92, 43),\n (94, 22),\n (94, 77),\n (94, 86),\n (95, 56),\n (95, 71),\n (95, 91),\n (96, 64),\n (97, 1),\n (97, 17),\n (98, 30),\n (98, 45),\n (99, 8),\n (99, 11),\n (99, 38),\n (99, 85),\n (99, 87),\n (99, 96)]"
     },
     "execution_count": 50,
     "metadata": {},
     "output_type": "execute_result"
    }
   ],
   "source": [
    "def value(i, j):\n",
    "    try:\n",
    "        return lava_tubes[i][j]\n",
    "    except:\n",
    "        return 9\n",
    "\n",
    "def is_low_point(i, j):\n",
    "    middle = value(i,j)\n",
    "    above = value(i-1,j)\n",
    "    right = value(i,j+1)\n",
    "    left = value(i,j-1)\n",
    "    below = value(i+1,j)\n",
    "\n",
    "    if min([left, above, right, below]) > middle:\n",
    "        return True\n",
    "\n",
    "def find_low_points():\n",
    "    low_points = []\n",
    "    for i in range(len(lava_tubes)):\n",
    "        for j in range(len(lava_tubes[i])):\n",
    "            if is_low_point(i, j):\n",
    "                low_points.append((i, j))\n",
    "    return low_points\n",
    "\n",
    "low_points = find_low_points()\n",
    "low_points"
   ]
  },
  {
   "cell_type": "markdown",
   "id": "98ac8de8-513e-4667-8a0c-da5464cf4398",
   "metadata": {},
   "source": [
    "## Part 2"
   ]
  },
  {
   "cell_type": "code",
   "execution_count": 51,
   "id": "1ae1d39c-1803-4a57-ab1c-a8ff387fa30c",
   "metadata": {
    "pycharm": {
     "name": "#%%\n"
    }
   },
   "outputs": [
    {
     "data": {
      "text/plain": "[20,\n 2,\n 51,\n 53,\n 25,\n 69,\n 38,\n 38,\n 51,\n 43,\n 69,\n 33,\n 20,\n 17,\n 24,\n 11,\n 30,\n 22,\n 4,\n 35,\n 9,\n 16,\n 19,\n 7,\n 6,\n 61,\n 60,\n 6,\n 42,\n 3,\n 2,\n 9,\n 57,\n 19,\n 11,\n 3,\n 29,\n 2,\n 22,\n 24,\n 7,\n 48,\n 42,\n 45,\n 6,\n 50,\n 9,\n 27,\n 85,\n 81,\n 69,\n 18,\n 38,\n 30,\n 6,\n 2,\n 4,\n 11,\n 37,\n 99,\n 16,\n 29,\n 24,\n 15,\n 58,\n 30,\n 25,\n 102,\n 34,\n 45,\n 92,\n 48,\n 3,\n 57,\n 76,\n 8,\n 45,\n 26,\n 55,\n 36,\n 4,\n 41,\n 58,\n 23,\n 6,\n 26,\n 48,\n 88,\n 45,\n 20,\n 23,\n 49,\n 25,\n 17,\n 3,\n 14,\n 8,\n 8,\n 72,\n 24,\n 19,\n 16,\n 16,\n 87,\n 24,\n 40,\n 53,\n 43,\n 37,\n 41,\n 16,\n 2,\n 14,\n 52,\n 81,\n 47,\n 61,\n 59,\n 38,\n 48,\n 7,\n 4,\n 26,\n 9,\n 49,\n 6,\n 2,\n 81,\n 34,\n 9,\n 43,\n 3,\n 43,\n 7,\n 19,\n 92,\n 94,\n 62,\n 16,\n 18,\n 75,\n 31,\n 59,\n 16,\n 2,\n 7,\n 3,\n 43,\n 5,\n 12,\n 15,\n 11,\n 39,\n 22,\n 2,\n 75,\n 79,\n 5,\n 24,\n 57,\n 6,\n 19,\n 4,\n 43,\n 14,\n 28,\n 3,\n 39,\n 18,\n 22,\n 50,\n 68,\n 7,\n 3,\n 6,\n 27,\n 10,\n 34,\n 73,\n 18,\n 41,\n 69,\n 83,\n 5,\n 61,\n 17,\n 8,\n 39,\n 34,\n 50,\n 10,\n 63,\n 11,\n 26,\n 109,\n 81,\n 9,\n 8,\n 8,\n 26,\n 29,\n 78,\n 4,\n 22,\n 92,\n 5,\n 61,\n 66,\n 53,\n 38,\n 58,\n 29,\n 18,\n 37,\n 39,\n 21,\n 21,\n 23,\n 4,\n 4,\n 35,\n 12,\n 7,\n 39]"
     },
     "execution_count": 51,
     "metadata": {},
     "output_type": "execute_result"
    }
   ],
   "source": [
    "\n",
    "lava_tubes = copy.deepcopy(lines)\n",
    "len_lava_tubes = len(lava_tubes)\n",
    "len_lava_tubes_j = len(lava_tubes[0])\n",
    "\n",
    "def value(i, j):\n",
    "    if i < 0 or i>= len_lava_tubes  or j < 0 or j >= len_lava_tubes_j:\n",
    "        return 9\n",
    "    return lava_tubes[i][j]\n",
    "\n",
    "def find_basin(i, j):\n",
    "    s = 0\n",
    "    stack = [(i, j)]\n",
    "    while len(stack) > 0:\n",
    "        # process item\n",
    "        i, j = stack.pop()\n",
    "        val = value(i, j)\n",
    "        if val == -1 or val == 9:\n",
    "            continue\n",
    "\n",
    "        lava_tubes[i][j] = -1 # mark done\n",
    "        s += 1\n",
    "        stack.append((i-1, j))\n",
    "        stack.append((i+1, j))\n",
    "        stack.append((i, j-1))\n",
    "        stack.append((i, j+1))\n",
    "    return s\n",
    "\n",
    "basins = []\n",
    "for low_point in low_points:\n",
    "    p = find_basin(*low_point)\n",
    "    basins.append(p)\n",
    "basins"
   ]
  },
  {
   "cell_type": "code",
   "execution_count": 52,
   "outputs": [
    {
     "data": {
      "text/plain": "1100682"
     },
     "execution_count": 52,
     "metadata": {},
     "output_type": "execute_result"
    }
   ],
   "source": [
    "from functools import reduce\n",
    "\n",
    "basins.sort()\n",
    "reduce(lambda acc, e: acc*e,  basins[-3:], 1)"
   ],
   "metadata": {
    "collapsed": false,
    "pycharm": {
     "name": "#%%\n"
    }
   }
  }
 ],
 "metadata": {
  "kernelspec": {
   "display_name": "Python 3 (ipykernel)",
   "language": "python",
   "name": "python3"
  },
  "language_info": {
   "codemirror_mode": {
    "name": "ipython",
    "version": 3
   },
   "file_extension": ".py",
   "mimetype": "text/x-python",
   "name": "python",
   "nbconvert_exporter": "python",
   "pygments_lexer": "ipython3",
   "version": "3.10.1"
  }
 },
 "nbformat": 4,
 "nbformat_minor": 5
}