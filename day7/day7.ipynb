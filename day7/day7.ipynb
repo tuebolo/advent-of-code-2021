{
 "cells": [
  {
   "cell_type": "markdown",
   "id": "9417999f-6e8d-487d-a98a-640ed6727601",
   "metadata": {},
   "source": [
    "## Part 1"
   ]
  },
  {
   "cell_type": "code",
   "execution_count": 120,
   "id": "1feb3d67-0815-4cb0-8ab8-3565028c4f99",
   "metadata": {},
   "outputs": [],
   "source": [
    "with open('input.txt') as f:\n",
    "    lines = f.readlines()"
   ]
  },
  {
   "cell_type": "code",
   "execution_count": 121,
   "id": "b6d70ad0-3dfd-43c1-adc6-dbd6908f1c4c",
   "metadata": {},
   "outputs": [
    {
     "data": {
      "text/plain": [
       "355592"
      ]
     },
     "execution_count": 121,
     "metadata": {},
     "output_type": "execute_result"
    }
   ],
   "source": [
    "positions = list(map(int, lines[0].split(',')))\n",
    "maneuvers = []\n",
    "\n",
    "for position in positions:\n",
    "    difference = list(map(lambda x: abs(position-x), positions))\n",
    "    fuel_cost = sum(difference)\n",
    "    # print(difference)\n",
    "    # print(fuel_cost)\n",
    "    maneuvers.append(fuel_cost)\n",
    "    # break\n",
    "\n",
    "# print(maneuvers)\n",
    "\n",
    "min(maneuvers)"
   ]
  },
  {
   "cell_type": "markdown",
   "id": "ce9e61c2-51c3-4183-a0a0-3b8480a9ba40",
   "metadata": {},
   "source": [
    "## Part 2"
   ]
  },
  {
   "cell_type": "code",
   "execution_count": 122,
   "id": "f48c3f5a-c089-47a7-aeb0-3a3c167ff3e4",
   "metadata": {},
   "outputs": [
    {
     "data": {
      "text/plain": [
       "101618069"
      ]
     },
     "execution_count": 122,
     "metadata": {},
     "output_type": "execute_result"
    }
   ],
   "source": [
    "positions = list(map(int, lines[0].split(',')))\n",
    "\n",
    "maneuvers = []\n",
    "\n",
    "for crab in range(max(positions)):\n",
    "    fuel_cost = 0\n",
    "\n",
    "    for position in positions:\n",
    "        difference = list(range(1, 1 + abs(position-crab)))\n",
    "        # print(difference,'\\n ------')\n",
    "        fuel_cost += sum(difference)\n",
    "   \n",
    "    maneuvers.append(fuel_cost)\n",
    "\n",
    "# print(maneuvers)\n",
    "\n",
    "min(maneuvers)"
   ]
  },
  {
   "cell_type": "code",
   "execution_count": null,
   "id": "1dbd85f5-ab33-4c95-84e8-105efd4f8a30",
   "metadata": {},
   "outputs": [],
   "source": []
  }
 ],
 "metadata": {
  "kernelspec": {
   "display_name": "Python 3 (ipykernel)",
   "language": "python",
   "name": "python3"
  },
  "language_info": {
   "codemirror_mode": {
    "name": "ipython",
    "version": 3
   },
   "file_extension": ".py",
   "mimetype": "text/x-python",
   "name": "python",
   "nbconvert_exporter": "python",
   "pygments_lexer": "ipython3",
   "version": "3.10.1"
  }
 },
 "nbformat": 4,
 "nbformat_minor": 5
}
